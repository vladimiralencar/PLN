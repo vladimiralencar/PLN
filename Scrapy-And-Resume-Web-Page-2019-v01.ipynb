{
 "cells": [
  {
   "cell_type": "markdown",
   "metadata": {},
   "source": [
    "# <font color='blue'>PLN - Scrapy snd Resume Web Page 2019</font>"
   ]
  },
  {
   "cell_type": "markdown",
   "metadata": {},
   "source": [
    "### Carregando um Dataset de um Site de E-commerce (em português)"
   ]
  },
  {
   "cell_type": "markdown",
   "metadata": {},
   "source": [
    "## Gensim - Modelagem de Tópicos (Sumarização, etc)"
   ]
  },
  {
   "cell_type": "markdown",
   "metadata": {},
   "source": [
    "https://github.com/RaRe-Technologies/gensim"
   ]
  },
  {
   "cell_type": "code",
   "execution_count": 1,
   "metadata": {},
   "outputs": [],
   "source": [
    "#!pip install gensim\n",
    "#!conda install -c anaconda beautifulsoup4"
   ]
  },
  {
   "cell_type": "markdown",
   "metadata": {},
   "source": [
    "# Pegar 1 texto na web e resumir usando o gensim"
   ]
  },
  {
   "cell_type": "code",
   "execution_count": 2,
   "metadata": {},
   "outputs": [],
   "source": [
    "url = 'https://www.cartacapital.com.br/justica/como-a-lava-jato-destruiu-a-justica-brasileira/?fbclid=IwAR3b9ph0aXDLYRxq1wa-FN9M6uwUAUuurNcbuhyeGH__1pESNWge6UqKIeA'"
   ]
  },
  {
   "cell_type": "code",
   "execution_count": 3,
   "metadata": {},
   "outputs": [
    {
     "name": "stdout",
     "output_type": "stream",
     "text": [
      "Número de parágrafos: 33\n"
     ]
    }
   ],
   "source": [
    "import requests\n",
    "from bs4 import BeautifulSoup\n",
    "\n",
    "page = requests.get(url)\n",
    "soup = BeautifulSoup(page.content, 'html.parser')\n",
    "\n",
    "print('Número de parágrafos:', len(soup.find_all('p')))\n",
    "\n",
    "#print(soup.prettify())"
   ]
  },
  {
   "cell_type": "code",
   "execution_count": 4,
   "metadata": {},
   "outputs": [
    {
     "name": "stdout",
     "output_type": "stream",
     "text": [
      "[]\n",
      "[<div class=\"vc_row wpb_row vc_row-fluid eltdf-section eltdf-content-aligment-left\" style=\"\"><div class=\"clearfix eltdf-full-section-inner\"><div class=\"wpb_column vc_column_container vc_col-sm-12\"><div class=\"vc_column-inner\"><div class=\"wpb_wrapper\"></div></div></div>\n",
      "<div class=\"wpb_text_column wpb_content_element\">\n",
      "<div class=\"wpb_wrapper\">\n",
      "<h2>O imoral processo moralizante que alterou profundamente os quadros da política nacional está finalmente em xeque</h2>\n",
      "</div>\n",
      "</div>\n",
      "<div class=\"vc_empty_space\" style=\"height: 32px\"><span class=\"vc_empty_space_inner\"></span></div></div></div>, 'A saga da Lava Jato começou como nos grandes clássicos, repleta de heroísmo indisputável, figuras messiânicas e cães defensores, que se prontificaram à defesa de Sérgio Moro, o “grande herói da nação”. Tal narrativa não nasce sozinha, ela se trata da continuidade da “cruzada contra a corrupção” e do aprofundamento da mobilização política do direito, mais nitidamente, a partir da aplicação anômala da teoria de domínio de fato, de Claus Roxin, na Ação Penal 470, o famoso Mensalão, articulada por Joaquim Barbosa para penalizar atores políticos, apenas por questões de graduação hierárquica.']\n",
      "['Depois, tal lógica moralizante da “cruzada contra a corrupção” foi aprofundada pela mobilização política de dispositivos jurídicos na Lava Jato, operação deflagrada perante a 13ª Vara Federal de Curitiba, que transferiu o messianismo de Joaquim Barbosa para a nova figura, o então juiz Sérgio Moro.']\n",
      "['Foto: José Cruz/ Agência Brasil']\n",
      "['Tal como na articulação estratégica da teoria de domínio de fato, o novo messias ', <em>pop star</em>, ' passou a atuar de modo “exótico”, para não falar ilegal, com o grampeamento e divulgação seletiva à mídia de conversas entre a então presidenta da República, Dilma Rousseff, e o ex-presidente, Luiz Inácio Lula da Silva, em época de conflitos no Congresso Nacional, o que contribuiu para o processo de', <em> impeachment</em>, ', em 2016. O mesmo ocorreu com a liberação da delação do ex-ministro Antônio Palocci, às vésperas do primeiro turno das eleições de 2018, com acusações diretas ao Lula, dentre outras ações anômalas à análise estritamente jurídica, que fortaleceram o apoio midiático à operação.']\n",
      "['Em 09 de junho de 2019, o cinismo da Lava Jato veio à tona, com a ', <a href=\"https://theintercept.com/series/mensagens-lava-jato/\" rel=\"noopener\" target=\"_blank\">publicação quádrupla no portal The Intercept Brasil</a>, ', em que Sérgio Moro experimentou do próprio veneno, pois, em nome do interesse público, teve divulgadas conversas no ', <em>Telegram</em>, ', nas quais ficaram claras as colaborações ilícitas entre a Justiça Federal – em tese, neutra e imparcial – e os procuradores do Ministério Público Federal. Quanto aos conteúdos das conversas, foram divulgados diálogos de proximidade questionável, antecipações de decisões e colaborações ilegais entre o então magistrado condutor do processo da Lava Jato no Paraná, Sérgio Moro, e o coordenador da força–tarefa, Deltan Dellagnol.']\n",
      "['Além disso, ficou claro o viés ideológico dos procuradores do MPF, com o desejo escuso de, a todo o custo, afastar o PT do poder, se necessário, por gambiarras jurídicas, colocada em evidência a interferência direta e calculada do Judiciário no processo eleitoral de 2018. Tais manobras, por parte do MPF, tornaram-se desnecessárias, pois o partido Novo recorreu ao STF contra a concessão, pelo ministro Ricardo Lewandowski, de entrevista de Lula à Folha de S.Paulo, por ocasião da disputa das eleições presidenciais.']\n",
      "['O Novo obteve do ministro Luiz Fux uma liminar contrária à entrevista, por receio de que eventual entrevista “favorecesse” o Haddad, em clássica “chuva” de liminares que merece, certamente, ser discutida. Na conversa divulgada, o procurador Januário Paludo usou de fina ironia para rebaixar a chefe do MPF, Raquel Dodge, que se negou a recorrer da decisão de Lewandowski, com a frase: “Devemos agradecer à nossa PGR: Partido Novo!!!”.']\n",
      "[<img alt=\"\" class=\"alignleft size-full wp-image-11141\" height=\"567\" sizes=\"(max-width: 850px) 100vw, 850px\" src=\"https://www.cartacapital.com.br/wp-content/uploads/2015/08/sergio-moro-e-deltan-dallagnol.jpg\" srcset=\"https://www.cartacapital.com.br/wp-content/uploads/2015/08/sergio-moro-e-deltan-dallagnol.jpg 850w, https://www.cartacapital.com.br/wp-content/uploads/2015/08/sergio-moro-e-deltan-dallagnol-300x200.jpg 300w, https://www.cartacapital.com.br/wp-content/uploads/2015/08/sergio-moro-e-deltan-dallagnol-768x512.jpg 768w, https://www.cartacapital.com.br/wp-content/uploads/2015/08/sergio-moro-e-deltan-dallagnol-128x86.jpg 128w\" width=\"850\"/>]\n",
      "['Ao beber do mesmo veneno anteriormente destilado, muitos fatos sobre a condução da Lava Jato foram trazidos à luz, confirmando fortes e antigas suspeitas, como a interferência maliciosa dos atores da operação nos processos eleitorais, a sustentação de denúncias por meio de reportagens jornalísticas, a fragilidade probatória reconhecida pelos próprios procuradores da Lava Jato e, ainda, a colaboração ilegal entre Moro e Dellagnol.']\n",
      "['Na série de Capitão América, nos quadrinhos lançados pela Marvel em 2016, ', <em>Captain America: Steve Rogers</em>, ', revela–se que o personagem, heróico e patriota, é na verdade um infiltrado da ', <em>Hidra</em>, ', organização criminosa de origem nazista. Com o fito de afastar eventuais comentários de fãs com possíveis teorias conspiratórias, de que poderia ser um clone, um falsário, ou, ainda, algum truque mental, o criador da série, Steve Rogers, revela que é realmente o Capitão América original.']\n",
      "['Dito isso, traçando um paralelo com o caso da Lava Jato, podemos dizer: o Moro da reportagem da ', <em>The Intercept Brasil </em>, 'é realmente o Moro original, sim, o mesmo Moro que era o juiz, depois, o político juiz, depois, o político ministro da justiça e, por fim, o aspirante político a ministro do STF e, quem sabe, o candidato à Presidência: tratam-se todos do mesmo Moro, o Moro original, agindo coerentemente ao mesmo “projeto de poder”.', <a href=\"#_ftn4\" name=\"_ftnref4\"><sup>[1]</sup></a>]\n",
      "['Todos eles agiram motivados por questões em comum, não importando se, como um câncer, pudessem colocar em xeque anos de conquistas civilizatórias, destruindo a confiabilidade na justiça a partir da demolição do direito; afinal, o poder e a confiabilidade no poder judiciário não se tratam de necessidade metafísica: tal poder não tem nada de absoluto ou necessário, o direito é apenas uma contingencialidade histórica, que não tem a necessidade absoluta de ser assim ou continuar sendo de tal maneira em preferência de outra, enquanto a confiança no direito e nas organizações que o integram é construída, ela não se autoimpõe.']\n",
      "[<strong><div class=\"leia-tbm\"><span> <em> <strong><span style=\"color: red;\">➤</span> Leia também:</strong> </em><ul> <li><a class=\"external-link\" href=\"https://www.cartacapital.com.br/justica/feliz-kompetenz-kompetenz-para-o-stf/\" rel=\"noopener\" target=\"_blank\" title=\"\">Feliz “Kompetenz-Kompetenz” para o STF!</a></li> </ul></span></div></strong>]\n",
      "[<strong><div class=\"leia-tbm\"><span> <em> <strong><span style=\"color: red;\">➤</span> Leia também:</strong> </em><ul> <li><a class=\"external-link\" href=\"https://www.cartacapital.com.br/justica/quem-regula-o-supremo/\" rel=\"noopener\" target=\"_blank\" title=\"\">Quem regula o Supremo?</a></li> </ul></span></div> </strong>]\n",
      "['Se dúvidas ainda pairavam sobre as motivações políticas e ideológicas da Lava Jato, estas certamente se dissiparam, tanto com a nomeação de Sérgio Moro como Ministro da Justiça e Segurança Pública do governo de Jair Bolsonaro – vez que a sua atuação jurisdicional foi decisiva para os desdobramentos que culminaram na sua nomeação como ministro da justiça, pois, enquanto magistrado, atuou de modo decisivo no processo que impediu Lula de concorrer, que figurava como o principal oponente nas urnas de Jair Bolsonaro – quanto com os vazamentos de conversas dos atores da operação no portal ', <em>The Intercept Brasil</em>, '.']\n",
      "['O imoral processo moralizante que alterou profundamente os quadros da política nacional está finalmente em xeque; que a Lava Jato tenha as sentenças anuladas, parece ser o natural caminho para salvar a democracia e o direito, que já respiram por aparelhos, com a decretação da nulidade absoluta das decisões proferidas pelo então magistrado, Sérgio Moro, como manda o art. 564, I, do Código de Processo Penal, aplicado em conjunto com o art. 254, IV, do mesmo diploma, vez que o juiz que aconselhar quaisquer das partes deve ser declarado suspeito e, se não o fizer, por consequência, será caso de nulidade absoluta dos seus atos.']\n",
      "['Valter Campanato/Agência Brasil']\n",
      "['Contudo, tal como na antiguidade, o messianismo jurídico ainda guarda religiosamente seus ritos, dogmas, fervor e proselistimo. Tal como nas cruzadas religiosas, a “cruzada contra a corrupção” corre severo risco de transformar seus partidários caídos “em combate”, tal como o “jair-messiânico” Sérgio Moro, em mártires, santos, pois, perante o discurso construído no embate à corrupção, a “destruição do inimigo” já não é um inconveniente, torna-se um dever moral.']\n",
      "['Agora, além dos ataques por parte da família Bolsonaro a um dos editores da reportagem, Glenn Greenwald, a estratégia específica de Sérgio Moro é afirmar que não existe nenhuma anormalidade nas conversas com Deltan Dellagnol, penalizando, ainda, o portal ', <em>The Intercept</em>, ', por ter ferido “regra básica do jornalismo” ao não contatar as partes antes da divulgação da reportagem – o que foi devidamente explicado e justificado pelos jornalistas, que fique claro – e, ainda (seguindo a regra ', <em>morista</em>, ' do “vale tudo” contra a corrupção), por ter ignorado “o gigantesco esquema de corrupção revelado pela Operação Lava Jato”.']\n",
      "[<strong><div class=\"leia-tbm\"><span> <em> <strong><span style=\"color: red;\">➤</span> Leia também:</strong> </em><ul> <li><a class=\"external-link\" href=\"https://www.cartacapital.com.br/carta-capital/repercussao-moro-e-dallagnol/\" rel=\"noopener\" target=\"_blank\" title=\"\">Veja repercussões dos vazamentos de conversas entre Moro e Dallagnol</a></li> </ul></span></div></strong>]\n",
      "['Obviamente, o fato do Moro juiz ter ferido e continuar ferindo regras básicas constitucionais, de ética, de bom senso e outras normas atinentes a sua então função de magistratura, nunca esteve em tela perante seu olhar, afinal, tudo vale em nome do “bem”, da “verdade” e da “bondade” – e dá-lhes escusas e desculpas!']\n",
      "['A Lava Jato, encarnando o messianismo dos paladinos da justiça, quis construir um “novo” mundo,', <a href=\"#_ftn6\" name=\"_ftnref6\"><sup>[2]</sup></a>, ' tratando-se, desse modo, de um projeto colonizador, uma agenda moral. A política criminal punitivista é totalmente coerente à queda da Constituição,', <a href=\"#_ftn7\" name=\"_ftnref7\"><sup>[3]</sup></a>, ' pois, na “cruzada contra a corrupção”, as regras constitucionais são mitigadas (como da presunção de inocência), a prisão provisória é desvirtuada e, ainda, regras sérias são quebradas, como ocorre no vazamento seletivo de documentações.']\n",
      "['Mas “tudo vale” em nome dessa agenda moral, que cresce na espetacularização da justiça, por conta de déficit democrático tanto das organizações do direito, quanto das forças midiáticas.']\n",
      "['Emblematicamente, um trecho da conversa de Deltan Dallagnol com Sérgio Moro enuncia esse novo mundo dos juízes populistas e messiânicos, em que o que importa é o “apoio popular”. Talvez, apenas talvez, se tivermos sorte, a profecia de Dallagnol de que Moro “conduzirá multidões” com as mudanças “necessárias” no sistema político e de justiça possa se romper prematuramente, mas o STF terá que ser suficientemente corajoso para enfrentar a Lava Jato e, efetivamente, guardar à Constituição o seu sentido mais genuíno.']\n",
      "['O Brasil nunca precisou tanto disso, ainda mais em tempos da Constituição em queda e do direito em quebra, pois os cães ainda ladram, embora tantos já tenham se despertado desse sonho ruim, algo como um pesadelo, da faxina moral do Brasil empreendida pelos agentes corporativos do direito.']\n",
      "['Teremos que optar: é o fim da Lava Jato ou o fim do direito e da democracia. E não haverá “respeitosas escusas” para arrumar o estrago na justiça brasileira.']\n",
      "['... Mas não se vá ainda. Ajude-nos a manter de pé o trabalho de ', <strong>CartaCapital</strong>, '.']\n",
      "['O jornalismo vigia a fronteira entre a civilização e a barbárie. Fiscaliza o poder em todas as suas dimensões. Está a serviço da democracia e da diversidade de opinião, contra a escuridão do autoritarismo do pensamento único, da ignorância e da brutalidade.\\nHá 24 anos ', <strong>CartaCapital</strong>, ' exercita o espírito crítico, fiel à verdade factual, atenta ao compromisso de fiscalizar o poder onde quer que ele se manifeste.']\n",
      "['Nunca antes o jornalismo se fez tão necessário e nunca dependeu tanto da contribuição de cada um dos leitores. Seja ', <strong>Sócio CartaCapital</strong>, ', assine, contribua com um veículo dedicado a produzir diariamente uma informação de qualidade, profunda e analítica. A democracia agradece.']\n",
      "[]\n",
      "[]\n",
      "['Pesquisadora, escritora, ensaísta e advogada. Mestra em Direito pela Faculdade de Direito do Sul de Minas (FDSM).']\n",
      "<div class=\"vc_row wpb_row vc_row-fluid eltdf-section eltdf-content-aligment-left\" style=\"\"><div cla\n"
     ]
    }
   ],
   "source": [
    "#classe_tag = 'vc_empty_space'\n",
    "paragraphs = soup.find()\n",
    "all_paragraphs = paragraphs.find_all('p')\n",
    "\n",
    "# Usar .contents para pegar as tags <p> filhaso =\n",
    "texto = ''\n",
    "for paragraph in all_paragraphs:\n",
    "    print(paragraph.contents)\n",
    "    texto_paragraph = paragraph.contents #[0]\n",
    "    listToStr = ' '.join(map(str, texto_paragraph)) \n",
    "    \n",
    "    texto += listToStr\n",
    "    \n",
    "print(texto[:100])"
   ]
  },
  {
   "cell_type": "code",
   "execution_count": 5,
   "metadata": {},
   "outputs": [],
   "source": [
    "texto = texto.replace('</p>','')\n",
    "texto = texto.replace('</span>','')\n",
    "texto = texto.replace('<p>','')\n",
    "texto = texto.replace('<span>','')\n",
    "texto = texto.replace('<div>','')\n",
    "texto = texto.replace('</div>','')"
   ]
  },
  {
   "cell_type": "code",
   "execution_count": 6,
   "metadata": {},
   "outputs": [],
   "source": [
    "#text[:1000]"
   ]
  },
  {
   "cell_type": "code",
   "execution_count": 7,
   "metadata": {},
   "outputs": [
    {
     "name": "stdout",
     "output_type": "stream",
     "text": [
      "<a href=\"#_ftn4\" name=\"_ftnref4\"><sup>[1]</sup></a>Todos eles agiram motivados por questões em comum, não importando se, como um câncer, pudessem colocar em xeque anos de conquistas civilizatórias, destruindo a confiabilidade na justiça a partir da demolição do direito; afinal, o poder e a confiabilidade no poder judiciário não se tratam de necessidade metafísica: tal poder não tem nada de absoluto ou necessário, o direito é apenas uma contingencialidade histórica, que não tem a necessidade absoluta de ser assim ou continuar sendo de tal maneira em preferência de outra, enquanto a confiança no direito e nas organizações que o integram é construída, ela não se autoimpõe.<strong><div class=\"leia-tbm\"> <em> <strong><span style=\"color: red;\">➤ Leia também:</strong> </em><ul> <li><a class=\"external-link\" href=\"https://www.cartacapital.com.br/justica/feliz-kompetenz-kompetenz-para-o-stf/\" rel=\"noopener\" target=\"_blank\" title=\"\">Feliz “Kompetenz-Kompetenz” para o STF!</a></li> </ul></strong><strong><div class=\"leia-tbm\"> <em> <strong><span style=\"color: red;\">➤ Leia também:</strong> </em><ul> <li><a class=\"external-link\" href=\"https://www.cartacapital.com.br/justica/quem-regula-o-supremo/\" rel=\"noopener\" target=\"_blank\" title=\"\">Quem regula o Supremo?</a></li> </ul> </strong>Se dúvidas ainda pairavam sobre as motivações políticas e ideológicas da Lava Jato, estas certamente se dissiparam, tanto com a nomeação de Sérgio Moro como Ministro da Justiça e Segurança Pública do governo de Jair Bolsonaro – vez que a sua atuação jurisdicional foi decisiva para os desdobramentos que culminaram na sua nomeação como ministro da justiça, pois, enquanto magistrado, atuou de modo decisivo no processo que impediu Lula de concorrer, que figurava como o principal oponente nas urnas de Jair Bolsonaro – quanto com os vazamentos de conversas dos atores da operação no portal  <em>The Intercept Brasil</em> .O imoral processo moralizante que alterou profundamente os quadros da política nacional está finalmente em xeque; que a Lava Jato tenha as sentenças anuladas, parece ser o natural caminho para salvar a democracia e o direito, que já respiram por aparelhos, com a decretação da nulidade absoluta das decisões proferidas pelo então magistrado, Sérgio Moro, como manda o art.\n"
     ]
    }
   ],
   "source": [
    "import gensim\n",
    "num_paragraphs = 3\n",
    "word_count=230\n",
    "print (gensim.summarization.summarize(texto, word_count=word_count))"
   ]
  },
  {
   "cell_type": "code",
   "execution_count": 9,
   "metadata": {},
   "outputs": [
    {
     "name": "stdout",
     "output_type": "stream",
     "text": [
      "Na conversa divulgada, o procurador Januário Paludo usou de fina ironia para rebaixar a chefe do MPF, Raquel Dodge, que se negou a recorrer da decisão de Lewandowski, com a frase: “Devemos agradecer à nossa PGR: Partido Novo!!!”.<img alt=\"\" class=\"alignleft size-full wp-image-11141\" height=\"567\" sizes=\"(max-width: 850px) 100vw, 850px\" src=\"https://www.cartacapital.com.br/wp-content/uploads/2015/08/sergio-moro-e-deltan-dallagnol.jpg\" srcset=\"https://www.cartacapital.com.br/wp-content/uploads/2015/08/sergio-moro-e-deltan-dallagnol.jpg 850w, https://www.cartacapital.com.br/wp-content/uploads/2015/08/sergio-moro-e-deltan-dallagnol-300x200.jpg 300w, https://www.cartacapital.com.br/wp-content/uploads/2015/08/sergio-moro-e-deltan-dallagnol-768x512.jpg 768w, https://www.cartacapital.com.br/wp-content/uploads/2015/08/sergio-moro-e-deltan-dallagnol-128x86.jpg 128w\" width=\"850\"/>Ao beber do mesmo veneno anteriormente destilado, muitos fatos sobre a condução da Lava Jato foram trazidos à luz, confirmando fortes e antigas suspeitas, como a interferência maliciosa dos atores da operação nos processos eleitorais, a sustentação de denúncias por meio de reportagens jornalísticas, a fragilidade probatória reconhecida pelos próprios procuradores da Lava Jato e, ainda, a colaboração ilegal entre Moro e Dellagnol.Na série de Capitão América, nos quadrinhos lançados pela Marvel em 2016,  <em>Captain America: Steve Rogers</em> , revela–se que o personagem, heróico e patriota, é na verdade um infiltrado da  <em>Hidra</em> , organização criminosa de origem nazista.\n",
      "<a href=\"#_ftn4\" name=\"_ftnref4\"><sup>[1]</sup></a>Todos eles agiram motivados por questões em comum, não importando se, como um câncer, pudessem colocar em xeque anos de conquistas civilizatórias, destruindo a confiabilidade na justiça a partir da demolição do direito; afinal, o poder e a confiabilidade no poder judiciário não se tratam de necessidade metafísica: tal poder não tem nada de absoluto ou necessário, o direito é apenas uma contingencialidade histórica, que não tem a necessidade absoluta de ser assim ou continuar sendo de tal maneira em preferência de outra, enquanto a confiança no direito e nas organizações que o integram é construída, ela não se autoimpõe.<strong><div class=\"leia-tbm\"> <em> <strong><span style=\"color: red;\">➤ Leia também:</strong> </em><ul> <li><a class=\"external-link\" href=\"https://www.cartacapital.com.br/justica/feliz-kompetenz-kompetenz-para-o-stf/\" rel=\"noopener\" target=\"_blank\" title=\"\">Feliz “Kompetenz-Kompetenz” para o STF!</a></li> </ul></strong><strong><div class=\"leia-tbm\"> <em> <strong><span style=\"color: red;\">➤ Leia também:</strong> </em><ul> <li><a class=\"external-link\" href=\"https://www.cartacapital.com.br/justica/quem-regula-o-supremo/\" rel=\"noopener\" target=\"_blank\" title=\"\">Quem regula o Supremo?</a></li> </ul> </strong>Se dúvidas ainda pairavam sobre as motivações políticas e ideológicas da Lava Jato, estas certamente se dissiparam, tanto com a nomeação de Sérgio Moro como Ministro da Justiça e Segurança Pública do governo de Jair Bolsonaro – vez que a sua atuação jurisdicional foi decisiva para os desdobramentos que culminaram na sua nomeação como ministro da justiça, pois, enquanto magistrado, atuou de modo decisivo no processo que impediu Lula de concorrer, que figurava como o principal oponente nas urnas de Jair Bolsonaro – quanto com os vazamentos de conversas dos atores da operação no portal  <em>The Intercept Brasil</em> .O imoral processo moralizante que alterou profundamente os quadros da política nacional está finalmente em xeque; que a Lava Jato tenha as sentenças anuladas, parece ser o natural caminho para salvar a democracia e o direito, que já respiram por aparelhos, com a decretação da nulidade absoluta das decisões proferidas pelo então magistrado, Sérgio Moro, como manda o art.\n"
     ]
    }
   ],
   "source": [
    "# Summary (0.1 = 10% of the original content). \n",
    "ratio = 0.1\n",
    "print (gensim.summarization.summarize(texto, ratio=ratio))"
   ]
  },
  {
   "cell_type": "code",
   "execution_count": null,
   "metadata": {},
   "outputs": [],
   "source": []
  }
 ],
 "metadata": {
  "anaconda-cloud": {},
  "kernelspec": {
   "display_name": "tf366",
   "language": "python",
   "name": "tf366"
  },
  "language_info": {
   "codemirror_mode": {
    "name": "ipython",
    "version": 3
   },
   "file_extension": ".py",
   "mimetype": "text/x-python",
   "name": "python",
   "nbconvert_exporter": "python",
   "pygments_lexer": "ipython3",
   "version": "3.6.6"
  }
 },
 "nbformat": 4,
 "nbformat_minor": 1
}
