{
 "cells": [
  {
   "cell_type": "markdown",
   "metadata": {},
   "source": [
    "# Processamento de Linguagem Natural - Bag of Words - Prática 02"
   ]
  },
  {
   "cell_type": "markdown",
   "metadata": {},
   "source": [
    "## Bag of Words\n",
    "\n",
    "\n",
    "O modelo de \"saco de palavras\" é uma representação simplificada usada no processamento de linguagem natural e recuperação de informação. Neste modelo, um texto (como uma sentença ou um documento) é representado como o saco (multiset) de suas palavras, desconsiderando a gramática e até a ordem das palavras, mas mantendo a multiplicidade.\n",
    "\n",
    "Na classificação de documentos, um saco de palavras é um vetor esparso de ocorrência de contagens de palavras; Ou seja, um histograma esparso sobre o vocabulário."
   ]
  },
  {
   "cell_type": "markdown",
   "metadata": {},
   "source": [
    "### Carregando um Dataset de um Site de E-commerce (em português)"
   ]
  },
  {
   "cell_type": "code",
   "execution_count": 5,
   "metadata": {
    "collapsed": true
   },
   "outputs": [],
   "source": [
    "import gzip\n",
    "import json\n",
    "import warnings\n",
    "warnings.filterwarnings(\"ignore\")"
   ]
  },
  {
   "cell_type": "code",
   "execution_count": 2,
   "metadata": {
    "collapsed": true
   },
   "outputs": [],
   "source": [
    "# Carregando o dataset\n",
    "corpus = list()\n",
    "with gzip.open('ecommerce.json.gz') as fp:\n",
    "    for line in fp:\n",
    "        entry = line.decode('utf8')\n",
    "        corpus.append(json.loads(entry))"
   ]
  },
  {
   "cell_type": "code",
   "execution_count": 3,
   "metadata": {},
   "outputs": [
    {
     "name": "stdout",
     "output_type": "stream",
     "text": [
      "{'_id': 120008322,\n",
      " 'cat': ' Automotivo',\n",
      " 'descr': 'Chegou o kit que junta resistência e conforto, além de níveis '\n",
      "          'máximos de segurança. São 4 pneus para seu carro ficar completo e '\n",
      "          'com a qualificação que você precisa.\\n'\n",
      "          'Com os conhecimentos avançados de hoje e um entusiasmo pela '\n",
      "          'direção, os engenheiros da Pirelli puderam dar grandes passos. Cada '\n",
      "          'pneu da Pirelli é responsável não só pelo desempenho, mas também '\n",
      "          'por uma \"vontade de ir pra estrada\", comunicando-se com o motorista '\n",
      "          'e gerando um melhor entendimento do desempenho do veículo, ou seja, '\n",
      "          'a Pirelli transforma a sua viagem em uma aventura divertida e livre '\n",
      "          'de problemas. Pneu Pirelli para carros com rodas aro 16, modelo '\n",
      "          'high performance Phanthon, perfil baixo proporcionando maior '\n",
      "          'estabilidade nas curvas, excelente qualidade e durabilidade para '\n",
      "          'pistas.\\n'\n",
      "          '\\n'\n",
      "          'Imagens meramente ilustrativas.\\n'\n",
      "          'Todas as informações divulgadas são de responsabilidade do '\n",
      "          'fabricante/fornecedor.',\n",
      " 'features': {'Aro': '16',\n",
      "              'Categoria': 'Alta Performance,Pneu automotivo',\n",
      "              'Composição/Material': 'Borracha',\n",
      "              'Dimensões aproximadas da embalagem (cm) - AxLxP': '63x23x63cm',\n",
      "              'Distância do furo central ao eixo': 'Não informado pelo '\n",
      "                                                   'fornecedor',\n",
      "              'Distância entre furos': 'Não informado pelo fornecedor',\n",
      "              'Fornecedor': 'Pirelli',\n",
      "              'Garantia do Fornecedor': '60 meses',\n",
      "              'Indicação': 'Carro',\n",
      "              'Largura do Pneu': 'Não informado pelo fornecedor',\n",
      "              'Marca': 'Pirelli',\n",
      "              'Modelo': '7895119967121',\n",
      "              'Número de furos': 'Não informado pelo fornecedor',\n",
      "              'PRODUTO': 'Pneu Pirelli Aro 16 205/55R16 Phantom',\n",
      "              'Peso aproximado da embalagem do produto (kg)': '10kg',\n",
      "              'Referência do Modelo': '7895119967121',\n",
      "              'Relação altura do flanco x altura do pneu': '62x22x62cm',\n",
      "              'SAC': '0800 7287638',\n",
      "              'Tala': 'Não informdo pelo fornecedor',\n",
      "              'Índice de carga': '615'},\n",
      " 'image_urls': ['http://iacom1-a.akamaihd.net/img/_staging/bf15acom.png',\n",
      "                'http://iacom1-a.akamaihd.net/produtos/01/00/item/120008/3/120008322_2GG.jpg',\n",
      "                'http://iacom1-a.akamaihd.net/produtos/01/00/item/120008/3/120008322_1GG.png'],\n",
      " 'name': 'Kit com 4 Pneus de Alta Performance Pirelli Aro 16 205/55R16 Phantom',\n",
      " 'ratings': 0,\n",
      " 'stars': 0.0,\n",
      " 'subcat': ' Pneus e Rodas',\n",
      " 'url': 'http://www.americanas.com.br/produto/120008322/kit-com-4-pneus-de-alta-performance-pirelli-aro-16-205-55r16-phantom??chave=dp_automotivo_dt1'}\n"
     ]
    }
   ],
   "source": [
    "from pprint import pprint\n",
    "pprint(corpus[0])"
   ]
  },
  {
   "cell_type": "code",
   "execution_count": 4,
   "metadata": {},
   "outputs": [
    {
     "name": "stdout",
     "output_type": "stream",
     "text": [
      "Chegou o kit que junta resistência e conforto, além de níveis máximos de segurança. São 4 pneus para seu carro ficar completo e com a qualificação que você precisa.\n",
      "Com os conhecimentos avançados de hoje e um entusiasmo pela direção, os engenheiros da Pirelli puderam dar grandes passos. Cada pneu da Pirelli é responsável não só pelo desempenho, mas também por uma \"vontade de ir pra estrada\", comunicando-se com o motorista e gerando um melhor entendimento do desempenho do veículo, ou seja, a Pirelli transforma a sua viagem em uma aventura divertida e livre de problemas. Pneu Pirelli para carros com rodas aro 16, modelo high performance Phanthon, perfil baixo proporcionando maior estabilidade nas curvas, excelente qualidade e durabilidade para pistas.\n",
      "\n",
      "Imagens meramente ilustrativas.\n",
      "Todas as informações divulgadas são de responsabilidade do fabricante/fornecedor.\n"
     ]
    }
   ],
   "source": [
    "print (corpus[0]['descr'])"
   ]
  },
  {
   "cell_type": "markdown",
   "metadata": {},
   "source": [
    "## Construindo um classificador"
   ]
  },
  {
   "cell_type": "code",
   "execution_count": 7,
   "metadata": {},
   "outputs": [
    {
     "name": "stdout",
     "output_type": "stream",
     "text": [
      "Chandon Brut Rosé 750 ml ---  Alimentos e Bebidas\n"
     ]
    }
   ],
   "source": [
    "produto = corpus[1]['name']\n",
    "categoria = corpus[1]['cat']\n",
    "print(produto, '---', categoria)"
   ]
  },
  {
   "cell_type": "code",
   "execution_count": 8,
   "metadata": {
    "collapsed": true
   },
   "outputs": [],
   "source": [
    "# Construindo um classificador para produtos e categorias (considerando apenas os 10 mil primeiros produtos)\n",
    "dataset = list()\n",
    "for entry in corpus[:10000]:\n",
    "    if 'cat' in entry:\n",
    "        dataset.append( (entry['name'], entry['cat'].lower().strip()) )"
   ]
  },
  {
   "cell_type": "code",
   "execution_count": 9,
   "metadata": {},
   "outputs": [
    {
     "data": {
      "text/plain": [
       "9953"
      ]
     },
     "execution_count": 9,
     "metadata": {},
     "output_type": "execute_result"
    }
   ],
   "source": [
    "len(dataset)"
   ]
  },
  {
   "cell_type": "code",
   "execution_count": 12,
   "metadata": {},
   "outputs": [
    {
     "name": "stdout",
     "output_type": "stream",
     "text": [
      "[('Kit com 4 Pneus de Alta Performance Pirelli Aro 16 205/55R16 Phantom',\n",
      "  'automotivo'),\n",
      " ('Chandon Brut Rosé 750 ml', 'alimentos e bebidas'),\n",
      " ('Kit com 2 Vodkas Sueca Absolut Vanilia 1000ml', 'alimentos e bebidas'),\n",
      " ('Kit  - Livros de Colorir: Jardim Secreto + Floresta Encantada + Reino '\n",
      "  'Animal',\n",
      "  'livros'),\n",
      " (\"Livro - Assassin's Creed: Submundo\", 'livros'),\n",
      " ('BCAA 2400 - 100 Cápsulas - Nitech Nutrition', 'suplementos e vitaminas'),\n",
      " ('100% Whey - 900g - Baunilha - Nitech Nutrition', 'suplementos e vitaminas'),\n",
      " ('Whey Protein Isolate - 900g - Morango - Nitech Nutrition',\n",
      "  'suplementos e vitaminas'),\n",
      " ('100% Whey - 900g - Chocolate - Nitech Nutrition', 'suplementos e vitaminas'),\n",
      " ('BCAA 2400 - 200 Cápsulas - Nitech Nutrition', 'suplementos e vitaminas')]\n"
     ]
    }
   ],
   "source": [
    "pprint(dataset[:10])"
   ]
  },
  {
   "cell_type": "code",
   "execution_count": 13,
   "metadata": {},
   "outputs": [
    {
     "name": "stdout",
     "output_type": "stream",
     "text": [
      "[('bebês', 1208),\n",
      " ('eletroportáteis', 1052),\n",
      " ('automotivo', 915),\n",
      " ('utilidades domésticas', 857),\n",
      " ('suplementos e vitaminas', 787),\n",
      " ('ar-condicionado e aquecedores', 754),\n",
      " ('informática', 706),\n",
      " ('cama, mesa e banho', 670),\n",
      " ('tv e home theater', 644),\n",
      " ('perfumaria', 532),\n",
      " ('beleza e saúde', 497),\n",
      " ('dvds e blu-ray', 433),\n",
      " ('relógios', 410),\n",
      " ('pet shop', 391),\n",
      " ('instrumentos musicais', 44),\n",
      " ('celulares e telefones', 18),\n",
      " ('eletrodomésticos', 16),\n",
      " ('áudio', 13),\n",
      " ('alimentos e bebidas', 2),\n",
      " ('livros', 2),\n",
      " ('brinquedos', 1),\n",
      " ('linha industrial', 1)]\n"
     ]
    }
   ],
   "source": [
    "# Quantas categorias distintas nós temos e quantos itens por categoria?\n",
    "from collections import Counter\n",
    "counter = Counter([cat for prod, cat in dataset])\n",
    "pprint(counter.most_common())"
   ]
  },
  {
   "cell_type": "markdown",
   "metadata": {},
   "source": [
    "# Construindo um Classificador SVM com Bag of Words"
   ]
  },
  {
   "cell_type": "markdown",
   "metadata": {},
   "source": [
    "http://scikit-learn.org/stable/tutorial/text_analytics/working_with_text_data.html"
   ]
  },
  {
   "cell_type": "code",
   "execution_count": 14,
   "metadata": {
    "collapsed": true
   },
   "outputs": [],
   "source": [
    "from sklearn.pipeline import Pipeline\n",
    "from sklearn.svm import SVC\n",
    "from sklearn.preprocessing import LabelEncoder\n",
    "from sklearn.feature_extraction.text import TfidfVectorizer\n",
    "from sklearn.feature_extraction.text import CountVectorizer"
   ]
  },
  {
   "cell_type": "code",
   "execution_count": 15,
   "metadata": {
    "collapsed": true
   },
   "outputs": [],
   "source": [
    "import nltk\n",
    "stopwords = nltk.corpus.stopwords.words('portuguese')"
   ]
  },
  {
   "cell_type": "code",
   "execution_count": 16,
   "metadata": {
    "collapsed": true
   },
   "outputs": [],
   "source": [
    "# Construindo o modelo SVM com Pipeline\n",
    "modelo = Pipeline([('vect', TfidfVectorizer()), ('clf', SVC(kernel = 'linear', probability = True))])"
   ]
  },
  {
   "cell_type": "code",
   "execution_count": 17,
   "metadata": {
    "collapsed": true
   },
   "outputs": [],
   "source": [
    "?LabelEncoder"
   ]
  },
  {
   "cell_type": "code",
   "execution_count": 18,
   "metadata": {
    "collapsed": true
   },
   "outputs": [],
   "source": [
    "# Objeto para Normalização dos labels\n",
    "encoder = LabelEncoder()"
   ]
  },
  {
   "cell_type": "code",
   "execution_count": 19,
   "metadata": {},
   "outputs": [
    {
     "data": {
      "text/plain": [
       "9953"
      ]
     },
     "execution_count": 19,
     "metadata": {},
     "output_type": "execute_result"
    }
   ],
   "source": [
    "# Obtendo dados e labels\n",
    "data = [prod for prod, cat in dataset]\n",
    "labels = [cat for prod, cat in dataset]\n",
    "len(data)"
   ]
  },
  {
   "cell_type": "code",
   "execution_count": 20,
   "metadata": {},
   "outputs": [
    {
     "data": {
      "text/plain": [
       "['Kit com 4 Pneus de Alta Performance Pirelli Aro 16 205/55R16 Phantom',\n",
       " 'Chandon Brut Rosé 750 ml',\n",
       " 'Kit com 2 Vodkas Sueca Absolut Vanilia 1000ml']"
      ]
     },
     "execution_count": 20,
     "metadata": {},
     "output_type": "execute_result"
    }
   ],
   "source": [
    "data[:3]"
   ]
  },
  {
   "cell_type": "code",
   "execution_count": 21,
   "metadata": {},
   "outputs": [
    {
     "data": {
      "text/plain": [
       "['automotivo', 'alimentos e bebidas', 'alimentos e bebidas']"
      ]
     },
     "execution_count": 21,
     "metadata": {},
     "output_type": "execute_result"
    }
   ],
   "source": [
    "labels[:3]"
   ]
  },
  {
   "cell_type": "code",
   "execution_count": 24,
   "metadata": {},
   "outputs": [
    {
     "data": {
      "text/plain": [
       "array([2, 0, 0])"
      ]
     },
     "execution_count": 24,
     "metadata": {},
     "output_type": "execute_result"
    }
   ],
   "source": [
    "# Normalização dos labels (converter de string para número)\n",
    "target = encoder.fit_transform(labels)\n",
    "target[:3]"
   ]
  },
  {
   "cell_type": "code",
   "execution_count": 27,
   "metadata": {},
   "outputs": [
    {
     "name": "stdout",
     "output_type": "stream",
     "text": [
      "automotivo\n",
      "alimentos e bebidas\n"
     ]
    }
   ],
   "source": [
    "# Items\n",
    "print(encoder.classes_.item(2))\n",
    "print(encoder.classes_.item(0))"
   ]
  },
  {
   "cell_type": "code",
   "execution_count": 28,
   "metadata": {},
   "outputs": [
    {
     "data": {
      "text/plain": [
       "Pipeline(steps=[('vect', TfidfVectorizer(analyzer='word', binary=False, decode_error='strict',\n",
       "        dtype=<class 'numpy.int64'>, encoding='utf-8', input='content',\n",
       "        lowercase=True, max_df=1.0, max_features=None, min_df=1,\n",
       "        ngram_range=(1, 1), norm='l2', preprocessor=None, smooth_idf=True,\n",
       "  ...',\n",
       "  max_iter=-1, probability=True, random_state=None, shrinking=True,\n",
       "  tol=0.001, verbose=False))])"
      ]
     },
     "execution_count": 28,
     "metadata": {},
     "output_type": "execute_result"
    }
   ],
   "source": [
    "# Fit do modelo\n",
    "modelo.fit(data, target)"
   ]
  },
  {
   "cell_type": "code",
   "execution_count": 29,
   "metadata": {},
   "outputs": [
    {
     "data": {
      "text/plain": [
       "array([9])"
      ]
     },
     "execution_count": 29,
     "metadata": {},
     "output_type": "execute_result"
    }
   ],
   "source": [
    "# Prevendo a categoria a partir da descrição\n",
    "modelo.predict([\"Refrigerador Brastemp com função frostfree\"])"
   ]
  },
  {
   "cell_type": "code",
   "execution_count": 30,
   "metadata": {},
   "outputs": [
    {
     "name": "stdout",
     "output_type": "stream",
     "text": [
      "eletrodomésticos\n"
     ]
    }
   ],
   "source": [
    "# Prevendo a categoria a partir da descrição\n",
    "print (encoder.classes_[9])"
   ]
  },
  {
   "cell_type": "code",
   "execution_count": 31,
   "metadata": {},
   "outputs": [
    {
     "name": "stdout",
     "output_type": "stream",
     "text": [
      "['instrumentos musicais']\n"
     ]
    }
   ],
   "source": [
    "# Prevendo a categoria a partir da descrição\n",
    "print(encoder.classes_[ modelo.predict([\"baixo com 5 cordas\"])])"
   ]
  },
  {
   "cell_type": "code",
   "execution_count": 32,
   "metadata": {},
   "outputs": [
    {
     "name": "stdout",
     "output_type": "stream",
     "text": [
      "['utilidades domésticas']\n"
     ]
    }
   ],
   "source": [
    "# Prevendo a categoria a partir da descrição\n",
    "print(encoder.classes_[ modelo.predict([\"panela\"])])"
   ]
  },
  {
   "cell_type": "code",
   "execution_count": 33,
   "metadata": {},
   "outputs": [
    {
     "data": {
      "text/plain": [
       "array([[  1.78337929e-08,   2.02699370e-08,   7.29496812e-08,\n",
       "          1.72540865e-07,   6.96643553e-08,   1.10161254e-08,\n",
       "          2.68772950e-08,   1.06455706e-08,   5.86833352e-08,\n",
       "          1.90750682e-08,   9.99980329e-01,   8.75746680e-08,\n",
       "          4.99291778e-07,   1.27312949e-05,   3.62266742e-07,\n",
       "          9.71916328e-08,   1.94984037e-07,   1.36219961e-06,\n",
       "          2.74377276e-07,   1.71003226e-07,   9.31987255e-08,\n",
       "          3.31847787e-06]])"
      ]
     },
     "execution_count": 33,
     "metadata": {},
     "output_type": "execute_result"
    }
   ],
   "source": [
    "# Probabilidades de um produto\n",
    "probs = modelo.predict_proba([\"Ventilador\"])\n",
    "probs"
   ]
  },
  {
   "cell_type": "code",
   "execution_count": 34,
   "metadata": {},
   "outputs": [
    {
     "name": "stdout",
     "output_type": "stream",
     "text": [
      "[('alimentos e bebidas', 1.7833792933386225e-08),\n",
      " ('ar-condicionado e aquecedores', 2.0269937021380632e-08),\n",
      " ('automotivo', 7.294968117880753e-08),\n",
      " ('bebês', 1.7254086532506347e-07),\n",
      " ('beleza e saúde', 6.96643553086055e-08),\n",
      " ('brinquedos', 1.1016125351839872e-08),\n",
      " ('cama, mesa e banho', 2.6877295041868853e-08),\n",
      " ('celulares e telefones', 1.064557058071694e-08),\n",
      " ('dvds e blu-ray', 5.868333519196251e-08),\n",
      " ('eletrodomésticos', 1.9075068163111033e-08),\n",
      " ('eletroportáteis', 0.9999803285835196),\n",
      " ('informática', 8.757466798902202e-08),\n",
      " ('instrumentos musicais', 4.992917777117273e-07),\n",
      " ('linha industrial', 1.273129488623465e-05),\n",
      " ('livros', 3.6226674180255076e-07),\n",
      " ('perfumaria', 9.71916327528799e-08),\n",
      " ('pet shop', 1.9498403697302253e-07),\n",
      " ('relógios', 1.3621996109430775e-06),\n",
      " ('suplementos e vitaminas', 2.7437727627196557e-07),\n",
      " ('tv e home theater', 1.7100322579995142e-07),\n",
      " ('utilidades domésticas', 9.31987254530733e-08),\n",
      " ('áudio', 3.318477872003584e-06)]\n"
     ]
    }
   ],
   "source": [
    "# Probabidades de categorias para o objeto Ventilador\n",
    "guess = [(class_, probs.item(n)) for n, class_ in enumerate(encoder.classes_)]\n",
    "pprint(guess)"
   ]
  },
  {
   "cell_type": "code",
   "execution_count": 35,
   "metadata": {},
   "outputs": [
    {
     "name": "stdout",
     "output_type": "stream",
     "text": [
      "eletroportáteis: 1.0000\n",
      "linha industrial: 0.0000\n",
      "áudio: 0.0000\n",
      "relógios: 0.0000\n",
      "instrumentos musicais: 0.0000\n",
      "livros: 0.0000\n",
      "suplementos e vitaminas: 0.0000\n",
      "pet shop: 0.0000\n",
      "bebês: 0.0000\n",
      "tv e home theater: 0.0000\n",
      "perfumaria: 0.0000\n",
      "utilidades domésticas: 0.0000\n",
      "informática: 0.0000\n",
      "automotivo: 0.0000\n",
      "beleza e saúde: 0.0000\n",
      "dvds e blu-ray: 0.0000\n",
      "cama, mesa e banho: 0.0000\n",
      "ar-condicionado e aquecedores: 0.0000\n",
      "eletrodomésticos: 0.0000\n",
      "alimentos e bebidas: 0.0000\n",
      "brinquedos: 0.0000\n",
      "celulares e telefones: 0.0000\n"
     ]
    }
   ],
   "source": [
    "# Probabidade ajustada de categorias para o objeto Ventilador\n",
    "from operator import itemgetter\n",
    "for cat, proba in sorted(guess, key = itemgetter(1), reverse = True):\n",
    "    print ('{}: {:.4f}'.format(cat, proba))"
   ]
  },
  {
   "cell_type": "code",
   "execution_count": 63,
   "metadata": {},
   "outputs": [
    {
     "name": "stdout",
     "output_type": "stream",
     "text": [
      "baixo com 5 cordas ==> ['instrumentos musicais']\n",
      "notebook asus ==> ['informática']\n",
      "roda aro 15 ==> ['automotivo']\n",
      "lg ==> ['tv e home theater']\n",
      "chocolate ==> ['suplementos e vitaminas']\n",
      "ração ==> ['pet shop']\n"
     ]
    }
   ],
   "source": [
    "# exercício - Testar categorias a partir de produtos\n",
    "# Prevendo a categoria a partir da descrição\n",
    "\n",
    "produtos = [\"baixo com 5 cordas\", \"notebook asus\", \"roda aro 15\", \"lg\", \"chocolate\", \"ração\"]\n",
    "for produto in produtos:\n",
    "    print(produto, '==>' ,encoder.classes_[ modelo.predict([produto])])"
   ]
  }
 ],
 "metadata": {
  "anaconda-cloud": {},
  "kernelspec": {
   "display_name": "Python 3",
   "language": "python",
   "name": "python3"
  },
  "language_info": {
   "codemirror_mode": {
    "name": "ipython",
    "version": 3
   },
   "file_extension": ".py",
   "mimetype": "text/x-python",
   "name": "python",
   "nbconvert_exporter": "python",
   "pygments_lexer": "ipython3",
   "version": "3.6.1"
  }
 },
 "nbformat": 4,
 "nbformat_minor": 1
}
