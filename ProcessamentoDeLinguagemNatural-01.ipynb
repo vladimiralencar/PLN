{
 "cells": [
  {
   "cell_type": "markdown",
   "metadata": {},
   "source": [
    "# Processamento de Linguagem Natural"
   ]
  },
  {
   "cell_type": "markdown",
   "metadata": {},
   "source": [
    "## Instalação do pacote NLTK\n",
    "### http://www.nltk.org/"
   ]
  },
  {
   "cell_type": "code",
   "execution_count": null,
   "metadata": {
    "collapsed": true
   },
   "outputs": [],
   "source": [
    "# Instalação do módulo NLTK\n",
    "#!pip install nltk"
   ]
  },
  {
   "cell_type": "code",
   "execution_count": 81,
   "metadata": {
    "collapsed": true
   },
   "outputs": [],
   "source": [
    "import nltk"
   ]
  },
  {
   "cell_type": "code",
   "execution_count": null,
   "metadata": {
    "collapsed": true
   },
   "outputs": [],
   "source": [
    "# Instalando os arquivos de dados do NLTK\n",
    "#nltk.download('all')"
   ]
  },
  {
   "cell_type": "markdown",
   "metadata": {},
   "source": [
    "## Tokenization"
   ]
  },
  {
   "cell_type": "markdown",
   "metadata": {},
   "source": [
    "Processo de dividir uma string em listas de pedaços ou \"tokens\". Um token é uma parte inteira. <br>\n",
    "Por exemplo: uma palavra é um token em uma sentença. Uma sentença é um token em um parágrafo. <br>"
   ]
  },
  {
   "cell_type": "markdown",
   "metadata": {},
   "source": [
    "### Dividindo um parágrafo em frases"
   ]
  },
  {
   "cell_type": "code",
   "execution_count": 153,
   "metadata": {},
   "outputs": [],
   "source": [
    "paragrafo = \"A Amazon confirmou que adquiriu os direitos da franquia O Senhor dos Anéis. \" + \\\n",
    "            \"Ela encomendou uma série de TV com múltiplas temporadas. A informação é da Variety.\""
   ]
  },
  {
   "cell_type": "code",
   "execution_count": 154,
   "metadata": {
    "collapsed": true
   },
   "outputs": [],
   "source": [
    "from nltk.tokenize import sent_tokenize"
   ]
  },
  {
   "cell_type": "code",
   "execution_count": 155,
   "metadata": {},
   "outputs": [
    {
     "data": {
      "text/plain": [
       "['A Amazon confirmou que adquiriu os direitos da franquia O Senhor dos Anéis.',\n",
       " 'Ela encomendou uma série de TV com múltiplas temporadas.',\n",
       " 'A informação é da Variety.']"
      ]
     },
     "execution_count": 155,
     "metadata": {},
     "output_type": "execute_result"
    }
   ],
   "source": [
    "# Dividindo o parágrafo em frases\n",
    "sent_tokenize(paragrafo)"
   ]
  },
  {
   "cell_type": "markdown",
   "metadata": {},
   "source": [
    "### Dividindo uma frase em palavras"
   ]
  },
  {
   "cell_type": "code",
   "execution_count": 156,
   "metadata": {
    "collapsed": true
   },
   "outputs": [],
   "source": [
    "from nltk.tokenize import word_tokenize"
   ]
  },
  {
   "cell_type": "code",
   "execution_count": 157,
   "metadata": {},
   "outputs": [
    {
     "data": {
      "text/plain": [
       "['a',\n",
       " 'adaptação',\n",
       " 'televisiva',\n",
       " 'explorará',\n",
       " 'novas',\n",
       " 'tramas',\n",
       " 'antecedendo',\n",
       " 'A',\n",
       " 'Sociedade',\n",
       " 'do',\n",
       " 'Anel']"
      ]
     },
     "execution_count": 157,
     "metadata": {},
     "output_type": "execute_result"
    }
   ],
   "source": [
    "word_tokenize('a adaptação televisiva explorará novas tramas antecedendo A Sociedade do Anel')"
   ]
  },
  {
   "cell_type": "code",
   "execution_count": 162,
   "metadata": {
    "collapsed": true
   },
   "outputs": [],
   "source": [
    "# expressões regulares\n",
    "from nltk.tokenize import regexp_tokenize"
   ]
  },
  {
   "cell_type": "code",
   "execution_count": 168,
   "metadata": {},
   "outputs": [
    {
     "data": {
      "text/plain": [
       "['A', 'conta', 'de', 'luz', 'foi', 'mais', 'de', 'R$', '500,00']"
      ]
     },
     "execution_count": 168,
     "metadata": {},
     "output_type": "execute_result"
    }
   ],
   "source": [
    "frase = \"A conta de luz foi mais de R$ 500,00\"\n",
    "regexp_tokenize(frase, \"[\\w\\d,$]+\")"
   ]
  },
  {
   "cell_type": "code",
   "execution_count": 172,
   "metadata": {},
   "outputs": [
    {
     "data": {
      "text/plain": [
       "['500,00']"
      ]
     },
     "execution_count": 172,
     "metadata": {},
     "output_type": "execute_result"
    }
   ],
   "source": [
    "regexp_tokenize(frase, \"[\\d]+,[\\d]+\") # só para extrair número"
   ]
  },
  {
   "cell_type": "code",
   "execution_count": 175,
   "metadata": {},
   "outputs": [
    {
     "data": {
      "text/plain": [
       "['A conta de luz foi mais de R$ ', ',']"
      ]
     },
     "execution_count": 175,
     "metadata": {},
     "output_type": "execute_result"
    }
   ],
   "source": [
    "regexp_tokenize(frase, \"[\\D]+\") # só para extrair texto"
   ]
  },
  {
   "cell_type": "markdown",
   "metadata": {},
   "source": [
    "## Stopwords"
   ]
  },
  {
   "cell_type": "markdown",
   "metadata": {},
   "source": [
    "Stopwords são palavras comuns que normalmente não contribuem para o significado de uma frase, pelo menos com relação ao propósito da informação e do processamento da linguagem natural. São palavras como \"The\" e \"a\" ((em inglês) ou \"O/A\" e \"Um/Uma\" ((em português). Muitos mecanismos de busca filtram estas palavras (stopwords), como forma de economizar espaço em seus índices de pesquisa."
   ]
  },
  {
   "cell_type": "code",
   "execution_count": 176,
   "metadata": {
    "collapsed": true
   },
   "outputs": [],
   "source": [
    "from nltk.corpus import stopwords"
   ]
  },
  {
   "cell_type": "code",
   "execution_count": 177,
   "metadata": {
    "collapsed": true
   },
   "outputs": [],
   "source": [
    "portuguese_stops = set(stopwords.words('portuguese'))"
   ]
  },
  {
   "cell_type": "code",
   "execution_count": 183,
   "metadata": {},
   "outputs": [
    {
     "data": {
      "text/plain": [
       "['de', 'a', 'o', 'que', 'e', 'do', 'da', 'em', 'um', 'para', 'com', 'não']"
      ]
     },
     "execution_count": 183,
     "metadata": {},
     "output_type": "execute_result"
    }
   ],
   "source": [
    "stopwords.words('portuguese')[:12]"
   ]
  },
  {
   "cell_type": "code",
   "execution_count": 185,
   "metadata": {},
   "outputs": [
    {
     "data": {
      "text/plain": [
       "['i', 'me', 'my', 'myself', 'we', 'our', 'ours', 'ourselves', 'you', 'your']"
      ]
     },
     "execution_count": 185,
     "metadata": {},
     "output_type": "execute_result"
    }
   ],
   "source": [
    "stopwords.words('english')[:10]"
   ]
  },
  {
   "cell_type": "code",
   "execution_count": 187,
   "metadata": {},
   "outputs": [
    {
     "name": "stdout",
     "output_type": "stream",
     "text": [
      "Número de stopwords em Português:  203\n",
      "Número de stopwords em Inglês:  153\n"
     ]
    }
   ],
   "source": [
    "print (\"Número de stopwords em Português: \", len(stopwords.words('portuguese')))\n",
    "print (\"Número de stopwords em Inglês: \", len(stopwords.words('english')))"
   ]
  },
  {
   "cell_type": "code",
   "execution_count": 193,
   "metadata": {},
   "outputs": [
    {
     "name": "stdout",
     "output_type": "stream",
     "text": [
      "O Senhor dos Anéis é um fenômeno que capturou a imaginação de fãs pela literatura e na telona\n",
      "['O', 'Senhor', 'Anéis', 'é', 'fenômeno', 'capturou', 'imaginação', 'fãs', 'literatura', 'telona']\n"
     ]
    }
   ],
   "source": [
    "frase = \"O Senhor dos Anéis é um fenômeno que capturou a imaginação de fãs pela literatura e na telona\"\n",
    "frase_tok = word_tokenize(frase)\n",
    "# divide em palavras\n",
    "frase2 = [palavra for palavra in frase_tok if palavra not in portuguese_stops]\n",
    "print (frase)\n",
    "print(frase2)"
   ]
  },
  {
   "cell_type": "markdown",
   "metadata": {},
   "source": [
    "## Collocations"
   ]
  },
  {
   "cell_type": "markdown",
   "metadata": {},
   "source": [
    "Collocations são duas ou mais palavras que tendem a aparecer frequentemente juntas, como \"Estados Unidos\" ou \"Rio Grande do Norte\". Essas palavras podem gerar diversas combinações e por isso o contexto também é importante no processamento de linguagem natural."
   ]
  },
  {
   "cell_type": "code",
   "execution_count": 219,
   "metadata": {},
   "outputs": [],
   "source": [
    "from nltk.collocations import BigramCollocationFinder\n",
    "from nltk.metrics import BigramAssocMeasures"
   ]
  },
  {
   "cell_type": "code",
   "execution_count": 220,
   "metadata": {
    "collapsed": true
   },
   "outputs": [],
   "source": [
    "texto = \"alguma coisa estranha aconteceu naquele dia. Não sei o que houve, mas ela chegou outra vez\".split()\n",
    "words = [w.lower() for w in texto]"
   ]
  },
  {
   "cell_type": "code",
   "execution_count": 221,
   "metadata": {},
   "outputs": [
    {
     "data": {
      "text/plain": [
       "[('aconteceu', 'naquele'), ('alguma', 'coisa')]"
      ]
     },
     "execution_count": 221,
     "metadata": {},
     "output_type": "execute_result"
    }
   ],
   "source": [
    "bcf = BigramCollocationFinder.from_words(words)\n",
    "bcf.nbest(BigramAssocMeasures.likelihood_ratio,2)"
   ]
  },
  {
   "cell_type": "markdown",
   "metadata": {},
   "source": [
    "## Stemming Words"
   ]
  },
  {
   "cell_type": "markdown",
   "metadata": {},
   "source": [
    "Stemming é a técnica de remover sufixos e prefixos de uma palavra, chamada stem. Por exemplo, o stem da palavra cooking é cook. Um bom algoritmo sabe que \"ing\" é um sufixo e pode ser removido. Stemming é muito usado em mecanismos de buscas para indexação de palavras. Ao invés de armazenar todas as formas de uma palavras, um mecamismo de busca armazena apenas o stem da palavra, reduzindo o tamanho do índice e aumentando a performance do processo de busca."
   ]
  },
  {
   "cell_type": "code",
   "execution_count": 230,
   "metadata": {
    "collapsed": true
   },
   "outputs": [],
   "source": [
    "from nltk.stem import PorterStemmer"
   ]
  },
  {
   "cell_type": "code",
   "execution_count": 231,
   "metadata": {
    "collapsed": true
   },
   "outputs": [],
   "source": [
    "stemmer = PorterStemmer()"
   ]
  },
  {
   "cell_type": "code",
   "execution_count": 232,
   "metadata": {},
   "outputs": [
    {
     "data": {
      "text/plain": [
       "'cook'"
      ]
     },
     "execution_count": 232,
     "metadata": {},
     "output_type": "execute_result"
    }
   ],
   "source": [
    "stemmer.stem('cooking')"
   ]
  },
  {
   "cell_type": "code",
   "execution_count": 233,
   "metadata": {},
   "outputs": [
    {
     "data": {
      "text/plain": [
       "'cookeri'"
      ]
     },
     "execution_count": 233,
     "metadata": {},
     "output_type": "execute_result"
    }
   ],
   "source": [
    "stemmer.stem('cookery')"
   ]
  },
  {
   "cell_type": "code",
   "execution_count": 222,
   "metadata": {
    "collapsed": true
   },
   "outputs": [],
   "source": [
    "from nltk.stem import RSLPStemmer # para português"
   ]
  },
  {
   "cell_type": "code",
   "execution_count": null,
   "metadata": {
    "collapsed": true
   },
   "outputs": [],
   "source": [
    "st = RSLPStemmer()"
   ]
  },
  {
   "cell_type": "code",
   "execution_count": 235,
   "metadata": {},
   "outputs": [
    {
     "data": {
      "text/plain": [
       "'corr'"
      ]
     },
     "execution_count": 235,
     "metadata": {},
     "output_type": "execute_result"
    }
   ],
   "source": [
    "st.stem(\"correu\")"
   ]
  },
  {
   "cell_type": "code",
   "execution_count": 236,
   "metadata": {},
   "outputs": [
    {
     "data": {
      "text/plain": [
       "'corr'"
      ]
     },
     "execution_count": 236,
     "metadata": {},
     "output_type": "execute_result"
    }
   ],
   "source": [
    "st.stem(\"correndo\")"
   ]
  },
  {
   "cell_type": "code",
   "execution_count": 237,
   "metadata": {},
   "outputs": [
    {
     "data": {
      "text/plain": [
       "'corr'"
      ]
     },
     "execution_count": 237,
     "metadata": {},
     "output_type": "execute_result"
    }
   ],
   "source": [
    "st.stem(\"correr\")"
   ]
  },
  {
   "cell_type": "code",
   "execution_count": 229,
   "metadata": {},
   "outputs": [
    {
     "data": {
      "text/plain": [
       "'clariss risc com giz no quadro-negr a pais que os alun dev copiar. uma cas de port e janel , em cim dumacoxilh . '"
      ]
     },
     "execution_count": 229,
     "metadata": {},
     "output_type": "execute_result"
    }
   ],
   "source": [
    "# opening lines of Erico Verissimo's \"Música ao Longe\"\n",
    "text = '''\n",
    "Clarissa risca com giz no quadro-negro a paisagem que os alunos devem copiar. \n",
    "Uma casinha de porta e janela , em cima dumacoxilha .'''\n",
    "text_stem = \"\"\n",
    "for token in text.split():\n",
    "    #print(st.stem(token))\n",
    "    text_stem = text_stem + st.stem(token) + \" \"\n",
    "text_stem"
   ]
  },
  {
   "cell_type": "markdown",
   "metadata": {},
   "source": [
    "## Corpus"
   ]
  },
  {
   "cell_type": "markdown",
   "metadata": {},
   "source": [
    "Corpus é uma coleção de documentos de texto e Corpora é o plural de Corpus. Esse termo vem da palavra em Latim para corpo (nesse caso, o corpo de um texto). Um Corpus customizado é uma coleção de arquivos de texto organizados em um diretório.\n",
    "\n",
    "Se você for treinar seu próprio modelo como parte de um processo de classificação de texto (como análise de texto), você terá que criar seu próprio Corpus e treiná-lo."
   ]
  },
  {
   "cell_type": "markdown",
   "metadata": {},
   "source": [
    "# Fazer downloads de livros em .txt e colocar no diretório do jupyter notebook\n",
    "https://www.gutenberg.org/browse/languages/pt"
   ]
  },
  {
   "cell_type": "code",
   "execution_count": 239,
   "metadata": {},
   "outputs": [
    {
     "name": "stdout",
     "output_type": "stream",
     "text": [
      "BrazCubas.txt\r\n",
      "Nicolau Maquiavel – O Príncipe Ao Magnífico.txt\r\n",
      "Oprincipe.txt\r\n",
      "corpus.txt\r\n",
      "hamlet.txt\r\n",
      "irmaos_grimm.txt\r\n",
      "uol.txt\r\n"
     ]
    }
   ],
   "source": [
    "!ls *.txt  # no windows !Dir *.txt"
   ]
  },
  {
   "cell_type": "markdown",
   "metadata": {},
   "source": [
    "## Criando um Corpus (estrutura do documento para trabalhar com funções do NLTK)"
   ]
  },
  {
   "cell_type": "code",
   "execution_count": 245,
   "metadata": {},
   "outputs": [],
   "source": [
    "from nltk.corpus import PlaintextCorpusReader\n",
    "arquivos =  ['hamlet.txt', 'BrazCubas.txt.', 'irmaos_grimm.txt', 'Oprincipe.txt']\n",
    "corpus_root = '.'\n",
    "newcorpus = PlaintextCorpusReader(corpus_root, arquivos)  "
   ]
  },
  {
   "cell_type": "code",
   "execution_count": 246,
   "metadata": {},
   "outputs": [
    {
     "data": {
      "text/plain": [
       "['hamlet.txt', 'BrazCubas.txt.', 'irmaos_grimm.txt', 'Oprincipe.txt']"
      ]
     },
     "execution_count": 246,
     "metadata": {},
     "output_type": "execute_result"
    }
   ],
   "source": [
    "newcorpus.fileids()"
   ]
  },
  {
   "cell_type": "markdown",
   "metadata": {},
   "source": [
    "### livro: hamlet.txt - em português"
   ]
  },
  {
   "cell_type": "code",
   "execution_count": 247,
   "metadata": {},
   "outputs": [
    {
     "data": {
      "text/plain": [
       "['Project', 'Gutenberg', \"'\", 's', 'Hamlet']"
      ]
     },
     "execution_count": 247,
     "metadata": {},
     "output_type": "execute_result"
    }
   ],
   "source": [
    "hamlet = newcorpus.words('hamlet.txt')\n",
    "hamlet[:5]"
   ]
  },
  {
   "cell_type": "code",
   "execution_count": 399,
   "metadata": {},
   "outputs": [
    {
     "name": "stdout",
     "output_type": "stream",
     "text": [
      "numero de sentenças =  3915\n",
      "numero de palavras =  43861\n"
     ]
    }
   ],
   "source": [
    "fileid = 'hamlet.txt'\n",
    "print(\"numero de sentenças = \",len(newcorpus.sents(fileid)))\n",
    "print(\"numero de palavras = \",len(newcorpus.words(fileid)))"
   ]
  },
  {
   "cell_type": "code",
   "execution_count": 248,
   "metadata": {
    "collapsed": true
   },
   "outputs": [],
   "source": [
    "# converte para minúsculas\n",
    "hamlet = [w.lower() for w in hamlet]"
   ]
  },
  {
   "cell_type": "markdown",
   "metadata": {},
   "source": [
    "### Acessar funções específicas de texto do NLTK"
   ]
  },
  {
   "cell_type": "code",
   "execution_count": 249,
   "metadata": {
    "collapsed": true
   },
   "outputs": [],
   "source": [
    "from nltk.text import Text"
   ]
  },
  {
   "cell_type": "code",
   "execution_count": 402,
   "metadata": {
    "collapsed": true
   },
   "outputs": [],
   "source": [
    "text = Text(hamlet)"
   ]
  },
  {
   "cell_type": "code",
   "execution_count": 403,
   "metadata": {},
   "outputs": [
    {
     "name": "stdout",
     "output_type": "stream",
     "text": [
      "project gutenberg; vossa alteza; minha mãe; literary archive; meu pae;\n",
      "primeiro coveiro; electronic works; archive foundation; http ://;\n",
      "public domain; united states; gutenberg literary; vossa magestade; set\n",
      "forth; meu senhor; segundo coveiro; tudo quanto; teu pae; electronic\n",
      "work; alguma cousa\n"
     ]
    }
   ],
   "source": [
    "# Collocations\n",
    "text.collocations()"
   ]
  },
  {
   "cell_type": "code",
   "execution_count": 406,
   "metadata": {},
   "outputs": [
    {
     "name": "stdout",
     "output_type": "stream",
     "text": [
      "que céu coração homem amor coveiro dia cadaver senhor hei joven motivo\n",
      "mundo mar espirito irmão demonio resto povo filho\n"
     ]
    }
   ],
   "source": [
    "text.similar('Rei')"
   ]
  },
  {
   "cell_type": "code",
   "execution_count": 411,
   "metadata": {},
   "outputs": [
    {
     "name": "stdout",
     "output_type": "stream",
     "text": [
      "Displaying 25 of 38 matches:\n",
      "mbra do rei hamlet . fortimbraz -- principe de noruega . gertrudes -- rainha d\n",
      " horacio ? marcello . marcello meu principe ! hamlet alegro - me de te ver , b\n",
      "oite . todos os nossos respeitos , principe . hamlet sempre amigos , adeus . (\n",
      "llar - vos a sós . marcello veja , principe , o gesto cheio de cortezia e dign\n",
      " detenha . horacio seja rasoavel , principe , não vá . hamlet ouço a voz do me\n",
      "ue for melhor . marcello sigamos o principe . ( sáem todos .) scena v uma part\n",
      "arias . horacio conte - nol - as , principe . hamlet é um segredo . horacio e \n",
      " não sou eu capaz de o guardar ? o principe conhece - me . marcello e eu ? ham\n",
      " ambos conte com a nossa palavra , principe . hamlet quero um juramento . hora\n",
      "o . horacio diga - nos a formula , principe . hamlet ( afastando - se um pouco\n",
      "inha filha : _o senhor hamlet é um principe collocado fóra da tua esphera ; is\n",
      "para abreviar a minha narração , o principe , vendo - se assim repellido , caí\n",
      "s louvado . polonio conhece - me , principe ? hamlet se conheço , és um vendil\n",
      "eu caro . polonio que quer dizer , principe ? ( á parte ) minha filha é a sua \n",
      "nobre senhor . rosencrantz querido principe . hamlet meus bons e queridos amig\n",
      "rantz não somos da mesma opinião , principe . hamlet para os senhores não será\n",
      "r . ambos estamos ás suas ordens , principe . hamlet não o comprehendo eu assi\n",
      "ão , nunca te dei nada . ophelia o principe sabe perfeitamente que me fez essa\n",
      "m todo o seu perfume , tome - as , principe , porque para uma alma nobre , as \n",
      "á a explicação prompta . ophelia o principe é mau , deixe - me seguir a peça .\n",
      "tuna , ou se a fortuna amores . um principe decáe ? somem - se os que os adula\n",
      ". ophelia sois na verdade mordaz , principe ; sois bem mordaz . hamlet a sua p\n",
      "tz encarregou - nos de lhe dizer , principe , que o seu comportamento lhe caus\n",
      "lteza , no seu quarto , antes de o principe se deitar . hamlet obedecer - lhe \n",
      "? rosencrantz houve tempo em que o principe era meu amigo . hamlet ainda hoje \n"
     ]
    }
   ],
   "source": [
    "text.concordance('Principe')"
   ]
  },
  {
   "cell_type": "code",
   "execution_count": 253,
   "metadata": {},
   "outputs": [
    {
     "data": {
      "image/png": "[encoded data removed]",
      "text/plain": [
       "<matplotlib.figure.Figure at 0x119fff6a0>"
      ]
     },
     "metadata": {},
     "output_type": "display_data"
    }
   ],
   "source": [
    "# Ocorrência (localização) dos termos em um documento\n",
    "palavras = [\"morte\", \"principe\", \"rei\", \"amor\", \"rainha\", \"ophelia\", \"horacio\", \"laerte\"]\n",
    "text.dispersion_plot(palavras)"
   ]
  },
  {
   "cell_type": "code",
   "execution_count": 252,
   "metadata": {},
   "outputs": [
    {
     "name": "stdout",
     "output_type": "stream",
     "text": [
      "[(',', 3163), ('.', 1805), ('a', 1331), ('o', 1301), ('que', 1160), ('-', 944), ('e', 889), ('de', 753), ('se', 503), ('hamlet', 502), (';', 435), ('não', 433), ('?', 427), ('um', 397), ('é', 379), ('me', 319), ('!', 314), ('os', 310), ('do', 302), ('da', 275), ('(', 253), ('as', 250), ('rei', 243), ('uma', 242), ('em', 240), ('para', 236), (\"'\", 226), ('meu', 197), ('mais', 188), ('the', 179), ('com', 178), ('mas', 175), ('sua', 173), ('como', 167), ('senhor', 164), ('horacio', 162), ('no', 156), ('por', 151), ('lhe', 151), ('te', 150), ('ao', 147), ('minha', 146), ('á', 141), ('.)', 131), ('polonio', 131), ('rainha', 130), ('seu', 124), ('of', 120), ('laerte', 117), ('na', 115), ('eu', 113), (')', 111), ('nos', 102), ('este', 96), ('ophelia', 95), ('n', 94), ('gutenberg', 93), ('esta', 92), ('project', 89), ('d', 86), ('to', 83), ('está', 81), ('porque', 81), ('or', 78), ('bem', 78), ('ha', 77), (':', 75), ('ou', 75), ('rosencrantz', 74), ('elle', 74)]\n"
     ]
    }
   ],
   "source": [
    "fd = nltk.FreqDist(hamlet)\n",
    "print(fd.most_common(70))"
   ]
  },
  {
   "cell_type": "markdown",
   "metadata": {},
   "source": [
    "### livro: Memórias Póstumas de Braz Cubas - BrazCubas.txt"
   ]
  },
  {
   "cell_type": "code",
   "execution_count": 254,
   "metadata": {},
   "outputs": [
    {
     "data": {
      "image/png": "[encoded data removed]",
      "text/plain": [
       "<matplotlib.figure.Figure at 0x117107048>"
      ]
     },
     "metadata": {},
     "output_type": "display_data"
    }
   ],
   "source": [
    "BrazCubas = newcorpus.words('BrazCubas.txt')\n",
    "BrazCubas = [w.lower() for w in BrazCubas] # converter o livro para minusculas\n",
    "text = Text(BrazCubas)\n",
    "names = [\"elle\", \"virgilia\", \"quincas\", \"morte\",\"amor\", \"marcella\"]\n",
    "text.dispersion_plot(names)"
   ]
  },
  {
   "cell_type": "code",
   "execution_count": 381,
   "metadata": {
    "collapsed": true
   },
   "outputs": [],
   "source": [
    "# retirar as stopwords do texto e pontuacoes\n",
    "def retirar_pontuacoes_lixos_stopwords(text):\n",
    "    pontuacoes_e_lixo = [  ',', '.', '-', ';', '?', 'é', '!', '(', 'o', \"'\", 'the', ')', '1', ':', '--',\n",
    "                     'a', 'o', 'de', 'que', \"˜\", \"se\", ';' ,'do','da', 'as', 'e', 'os', 'um', 'O',\n",
    "                     'uma', 'em', 'pera', 'meu', 'mais', 'com',\n",
    "                     'para', 'mais', 'como', 'á', 'te', 'ao', \n",
    "                     'me', 'sua', 'no', 'por', '.)', 'of', 'n', 'este', 'd', 'to', \"tão\", \"tm\", \"work\", \"assim\",\n",
    "                     'project', 'gutenberg', \"works\", \"!--\", \"electronic\", \"...\"]\n",
    "\n",
    "    stopwords_br = nltk.corpus.stopwords.words('portuguese')\n",
    "    stopwords_en = nltk.corpus.stopwords.words('english')\n",
    "    text = [w.lower() for w in text if w.lower() not in stopwords_br+stopwords_en]\n",
    "    text = [w.lower() for w in text if w.lower() not in pontuacoes_e_lixo]\n",
    "    return text"
   ]
  },
  {
   "cell_type": "code",
   "execution_count": 382,
   "metadata": {
    "collapsed": true
   },
   "outputs": [],
   "source": [
    "BrazCubas2 = retirar_pontuacoes_lixos_stopwords(BrazCubas)\n",
    "text = Text(BrazCubas2)\n",
    "text = [w.lower() for w in text]"
   ]
  },
  {
   "cell_type": "code",
   "execution_count": 383,
   "metadata": {},
   "outputs": [
    {
     "name": "stdout",
     "output_type": "stream",
     "text": [
      "[('elle', 237), ('virgilia', 205), ('capitulo', 203), ('disse', 188), (',--', 174), ('ella', 160), ('cousa', 150), ('porque', 140), ('olhos', 139), ('outro', 126), ('nada', 125), ('outra', 123), ('vida', 120), ('menos', 112), ('tempo', 112), ('homem', 109), ('casa', 107), ('mim', 102), ('tudo', 101), ('então', 100), ('pouco', 99), ('ser', 98), ('dia', 94), ('ainda', 91), ('ha', 86), ('alguma', 84), ('annos', 82), ('pae', 81), ('talvez', 80), ('vez', 80), ('agora', 76), ('dizer', 75), ('ás', 74), ('alguns', 74), ('dizia', 73), ('bem', 73), ('grande', 72), ('todos', 70), ('cousas', 69), ('dias', 69), ('logo', 69), ('borba', 69), ('ia', 68), ('quincas', 66), ('podia', 64), ('lá', 64), ('sei', 63), ('placida', 63), ('outros', 62), ('morte', 61)]\n"
     ]
    }
   ],
   "source": [
    "fd = nltk.FreqDist(BrazCubas2)\n",
    "print(fd.most_common(50))"
   ]
  },
  {
   "cell_type": "markdown",
   "metadata": {},
   "source": [
    "### livro: Irmãos Grimm "
   ]
  },
  {
   "cell_type": "code",
   "execution_count": 330,
   "metadata": {},
   "outputs": [
    {
     "name": "stdout",
     "output_type": "stream",
     "text": [
      "[('joão', 59), ('rapaz', 43), ('pequenino', 36), ('ouro', 36), ('onde', 34), ('bem', 33), ('tres', 32), ('elle', 28), ('ainda', 27), ('tudo', 27), ('disse', 26), ('vez', 25), ('então', 25), ('foundation', 25), ('pois', 24), ('havia', 24), ('viu', 24), ('diabo', 23), ('moço', 23), ('casa', 23), ('rei', 23), ('terms', 21), ('outra', 20), ('deu', 20), ('agora', 20), ('pae', 20), ('porque', 19), ('dar', 19), ('vacca', 19), ('mulher', 19)]\n"
     ]
    }
   ],
   "source": [
    "IrmaosGrimm = newcorpus.words('irmaos_grimm.txt')\n",
    "IrmaosGrimm2 = retirar_pontuacoes_lixos_stopwords(IrmaosGrimm)\n",
    "text = Text(IrmaosGrimm2)\n",
    "#text = [w.lower() for w in text]\n",
    "fd = nltk.FreqDist(IrmaosGrimm2)\n",
    "print(fd.most_common(30))"
   ]
  },
  {
   "cell_type": "code",
   "execution_count": 331,
   "metadata": {},
   "outputs": [
    {
     "data": {
      "image/png": "[encoded data removed]",
      "text/plain": [
       "<matplotlib.figure.Figure at 0x11abacd30>"
      ]
     },
     "metadata": {},
     "output_type": "display_data"
    }
   ],
   "source": [
    "names = [\"joão\", \"ouro\", \"rei\", \"diabo\",\"mulher\", \"rapaz\"]\n",
    "text.dispersion_plot(names)"
   ]
  },
  {
   "cell_type": "code",
   "execution_count": 332,
   "metadata": {},
   "outputs": [
    {
     "name": "stdout",
     "output_type": "stream",
     "text": [
      "Vocabulary plot:\n"
     ]
    },
    {
     "data": {
      "image/png": "[encoded data removed]",
      "text/plain": [
       "<matplotlib.figure.Figure at 0x11a258320>"
      ]
     },
     "metadata": {},
     "output_type": "display_data"
    }
   ],
   "source": [
    "print(\"Vocabulary plot:\")\n",
    "text.plot(20)"
   ]
  },
  {
   "cell_type": "code",
   "execution_count": 333,
   "metadata": {
    "collapsed": true
   },
   "outputs": [],
   "source": [
    "IrmaosGrimm_str = \" \".join(str(x) for x in text.tokens)"
   ]
  },
  {
   "cell_type": "markdown",
   "metadata": {},
   "source": [
    "### Word Cloud - Nuvem de Palavras"
   ]
  },
  {
   "cell_type": "code",
   "execution_count": 334,
   "metadata": {},
   "outputs": [
    {
     "data": {
      "image/png": "[encoded data removed]",
      "text/plain": [
       "<matplotlib.figure.Figure at 0x11ba5c5f8>"
      ]
     },
     "metadata": {},
     "output_type": "display_data"
    }
   ],
   "source": [
    "from wordcloud import WordCloud, STOPWORDS\n",
    "import matplotlib.pyplot as plt\n",
    "wordcloud2 = WordCloud(\n",
    "                          background_color='white',\n",
    "                          width=1400,\n",
    "                          height=1200\n",
    "                         ).generate(IrmaosGrimm_str)\n",
    "\n",
    "\n",
    "plt.imshow(wordcloud2)\n",
    "plt.axis('off')\n",
    "plt.show()"
   ]
  },
  {
   "cell_type": "code",
   "execution_count": 337,
   "metadata": {},
   "outputs": [
    {
     "name": "stdout",
     "output_type": "stream",
     "text": [
      "chegasse rainha ralhando\n"
     ]
    }
   ],
   "source": [
    "text.similar(\"rapaz\")"
   ]
  },
  {
   "cell_type": "code",
   "execution_count": 341,
   "metadata": {},
   "outputs": [
    {
     "data": {
      "text/plain": [
       "<bound method FreqDist.freq of FreqDist({'joão': 59, 'rapaz': 43, 'pequenino': 36, 'ouro': 36, 'onde': 34, 'bem': 33, 'tres': 32, 'elle': 28, 'ainda': 27, 'tudo': 27, ...})>"
      ]
     },
     "execution_count": 341,
     "metadata": {},
     "output_type": "execute_result"
    }
   ],
   "source": [
    "# vocabulario\n",
    "d = text.vocab()\n",
    "d.freq"
   ]
  },
  {
   "cell_type": "code",
   "execution_count": 342,
   "metadata": {},
   "outputs": [
    {
     "data": {
      "image/png": "[encoded data removed]",
      "text/plain": [
       "<matplotlib.figure.Figure at 0x11adabc18>"
      ]
     },
     "metadata": {},
     "output_type": "display_data"
    }
   ],
   "source": [
    "d.plot(30)"
   ]
  },
  {
   "cell_type": "markdown",
   "metadata": {
    "collapsed": true
   },
   "source": [
    "## Acessar uma página da internet"
   ]
  },
  {
   "cell_type": "code",
   "execution_count": 343,
   "metadata": {
    "collapsed": true
   },
   "outputs": [],
   "source": [
    "from nltk.tokenize import word_tokenize\n",
    "from urllib import request\n",
    "from bs4 import BeautifulSoup\n",
    "\n",
    "def freq_words(url, freqdist, n):\n",
    "    html = request.urlopen(url).read().decode('utf8')\n",
    "    raw = BeautifulSoup(html, \"lxml\").get_text()\n",
    "    raw = [w.lower() for w in raw if w.lower() not in stopwords]\n",
    "    raw = [w.lower() for w in raw if w.lower() not in pontuacoes_e_lixo] \n",
    "    raw = ''.join(raw)\n",
    "    #raw = Text(raw)\n",
    "    for word in word_tokenize(raw):\n",
    "        freqdist[word.lower()] += 1\n",
    "    result = []\n",
    "    for word, count in freqdist.most_common(n):\n",
    "        result = result + [word]\n",
    "    print(result)"
   ]
  },
  {
   "cell_type": "code",
   "execution_count": 344,
   "metadata": {},
   "outputs": [
    {
     "data": {
      "text/plain": [
       "3"
      ]
     },
     "execution_count": 344,
     "metadata": {},
     "output_type": "execute_result"
    }
   ],
   "source": [
    "from bs4 import BeautifulSoup\n",
    "\n",
    "url = constitution = \"https://www.archives.gov/founding-docs/constitution-transcript\"\n",
    "#url = constitution = \"http://www.archives.gov/exhibits/charters/constitution_transcript.html\"\n",
    "req = request.urlopen(url).read().decode('utf8')\n",
    "soup = BeautifulSoup(req,\"lxml\")\n",
    "len(soup)"
   ]
  },
  {
   "cell_type": "code",
   "execution_count": 352,
   "metadata": {},
   "outputs": [
    {
     "name": "stdout",
     "output_type": "stream",
     "text": [
      "America's Founding Documents\n",
      "\n",
      "Note: The following text is a transcription of the Constitution as it was inscribed by Jacob Shallus on parchment (the document on display in the Rotunda at the National Archives Museum.) The spelling and punctuation reflect the original.We the People of the United States, in Order to form\n"
     ]
    }
   ],
   "source": [
    "linhas = \"\"\n",
    "for sub_heading in soup.find_all('p'):\n",
    "    #print(sub_heading.text)\n",
    "    linhas += sub_heading.text\n",
    "print(linhas[:320])"
   ]
  },
  {
   "cell_type": "code",
   "execution_count": 358,
   "metadata": {},
   "outputs": [],
   "source": [
    "constituicao = linhas.split()"
   ]
  },
  {
   "cell_type": "code",
   "execution_count": 359,
   "metadata": {},
   "outputs": [
    {
     "name": "stdout",
     "output_type": "stream",
     "text": [
      "[('the', 392), ('of', 292), ('and', 188), ('shall', 180), ('be', 124), ('to', 93), ('in', 86), ('or', 79), ('United', 54), ('a', 51), ('by', 48), ('any', 42), ('for', 41), ('States,', 39), ('on', 33), ('which', 33), ('State', 33), ('such', 33), ('as', 31), ('may', 31), ('have', 30), ('all', 30), ('The', 25), ('from', 24), ('other', 23), ('he', 22), ('their', 20), ('President', 20), ('States', 19), ('House', 19)]\n"
     ]
    }
   ],
   "source": [
    "fd = nltk.FreqDist(constituicao)\n",
    "print(fd.most_common(30))"
   ]
  },
  {
   "cell_type": "code",
   "execution_count": 389,
   "metadata": {},
   "outputs": [
    {
     "name": "stdout",
     "output_type": "stream",
     "text": [
      " Do UOL, em São Paulo \n",
      "UOL\n",
      "A professora de português Maria Márcia Garrote\n",
      " A prova de português do Enem (Exame Nacional do Ensino Médio), aplicada neste domingo (5), chamou a atenção pela versatilidade de estilos de textos, que variaram de uma música popular do grupo de rap Racionais MC´s a um conto do escritor Machado de Assis.\n",
      " Em debate no estúdio do UOL, a professora de português Maria Marcia Garrote, do cursinho Objetivo, afirmou que os textos da prova foram usados de diversas maneiras, tanto para dar um enfoque social a determinados assuntos como para explorar as nuances da alma humana.\n",
      " A letra da música Fim de semana no Parque, dos Racionais, foi reproduzida na prova para abordar o tema do contraste entre os espaços de lazer na periferia e nas partes mais ricas das cidades, segundo a professora.\n",
      " Também foi feita referência aos Festivais Internacionais da Canção e reproduzido um texto do ator e cronista Gregório  Duvivier.\n",
      " A professora citou uma questão que trazia um conto do escritor Machado de Assis chamado A Causa Secreta. Nele, o personagem Fortunato, que estudou medicina, se esforçava para ajudar os mais variados personagens enfermos. \"Mas no final você vê que ele curte ver o sofrimento do outro\", disse Maria.\n",
      " \"Eles conseguiram abranger todos os gêneros na prova\", afirmou a professora.\n",
      "Leia também:\n",
      " Segundo o professor do cursinho Objetivo Aleksander Brunhara da Cruz, a prova de inglês teve textos longos e vocabulário difícil. \"Se o aluno não tivesse um conhecimento bom não conseguiria fazer\", afirmou.\n",
      " Na avaliação do professor, foi preciso ler com muita atenção os textos oferecidos pela prova para escolher entre opções de respostas muito parecidas. Além disso, o vocabulário usado nesses textos era mais complexo que o de versões anteriores da prova de inglês do Enem.\n",
      " \n",
      "© UOL 1996-2017\n"
     ]
    }
   ],
   "source": [
    "url = news = \"https://educacao.uol.com.br/noticias/2017/11/06/prova-do-enem-tem-textos-de-racionais-mcs-a-machado-de-assis.htm\"\n",
    "req = request.urlopen(url).read().decode('utf8')\n",
    "soup = BeautifulSoup(req,\"lxml\")\n",
    "linhas = \"\"\n",
    "for sub_heading in soup.find_all('p'):\n",
    "    print(sub_heading.text)\n",
    "    linhas += sub_heading.text"
   ]
  },
  {
   "cell_type": "code",
   "execution_count": 394,
   "metadata": {},
   "outputs": [
    {
     "name": "stdout",
     "output_type": "stream",
     "text": [
      "[('prova', 6), ('textos', 4), ('professora', 3), ('português', 3), ('uol,', 2), ('maria', 2), ('atenção', 2), ('música', 2), ('conto', 2), ('escritor', 2), ('machado', 2), ('cursinho', 2), ('afirmou', 2), ('segundo', 2), ('inglês', 2), ('vocabulário', 2), ('paulo', 1), ('uola', 1), ('márcia', 1), ('garrote', 1), ('enem', 1), ('(exame', 1), ('nacional', 1), ('ensino', 1), ('médio),', 1), ('aplicada', 1), ('neste', 1), ('domingo', 1), ('(5),', 1), ('chamou', 1)]\n"
     ]
    }
   ],
   "source": [
    "texto = linhas.split()\n",
    "tk = retirar_pontuacoes_lixos_stopwords(texto)\n",
    "fd = nltk.FreqDist(tk)\n",
    "print(fd.most_common(30))"
   ]
  },
  {
   "cell_type": "code",
   "execution_count": 395,
   "metadata": {},
   "outputs": [
    {
     "data": {
      "image/png": "[encoded data removed]",
      "text/plain": [
       "<matplotlib.figure.Figure at 0x11b2df860>"
      ]
     },
     "metadata": {},
     "output_type": "display_data"
    }
   ],
   "source": [
    "fd.plot(20)"
   ]
  },
  {
   "cell_type": "code",
   "execution_count": 396,
   "metadata": {},
   "outputs": [
    {
     "data": {
      "image/png": "[encoded data removed]",
      "text/plain": [
       "<matplotlib.figure.Figure at 0x11c9672b0>"
      ]
     },
     "metadata": {},
     "output_type": "display_data"
    }
   ],
   "source": [
    "from wordcloud import WordCloud, STOPWORDS\n",
    "import matplotlib.pyplot as plt\n",
    "wordcloud2 = WordCloud(\n",
    "                          background_color='white',\n",
    "                          width=1400,\n",
    "                          height=1200\n",
    "                         ).generate(\" \".join(tk))\n",
    "\n",
    "\n",
    "plt.imshow(wordcloud2)\n",
    "plt.axis('off')\n",
    "plt.show()"
   ]
  },
  {
   "cell_type": "code",
   "execution_count": null,
   "metadata": {
    "collapsed": true
   },
   "outputs": [],
   "source": []
  },
  {
   "cell_type": "code",
   "execution_count": null,
   "metadata": {
    "collapsed": true
   },
   "outputs": [],
   "source": []
  },
  {
   "cell_type": "code",
   "execution_count": null,
   "metadata": {
    "collapsed": true
   },
   "outputs": [],
   "source": []
  },
  {
   "cell_type": "code",
   "execution_count": 42,
   "metadata": {},
   "outputs": [
    {
     "data": {
      "text/plain": [
       "['Um', 'revivalismo', 'refrescante', 'O', '7_e_Meio', ...]"
      ]
     },
     "execution_count": 42,
     "metadata": {},
     "output_type": "execute_result"
    }
   ],
   "source": [
    "from nltk.corpus import floresta\n",
    "floresta.words()"
   ]
  },
  {
   "cell_type": "code",
   "execution_count": 95,
   "metadata": {},
   "outputs": [
    {
     "data": {
      "text/plain": [
       "[('Um', '>N+art'),\n",
       " ('revivalismo', 'H+n'),\n",
       " ('refrescante', 'N<+adj'),\n",
       " ('O', '>N+art'),\n",
       " ('7_e_Meio', 'H+prop'),\n",
       " ('é', 'P+v-fin'),\n",
       " ('um', '>N+art'),\n",
       " ('ex-libris', 'H+n'),\n",
       " ('de', 'H+prp'),\n",
       " ('a', '>N+art')]"
      ]
     },
     "execution_count": 95,
     "metadata": {},
     "output_type": "execute_result"
    }
   ],
   "source": [
    "floresta.tagged_words()[:10]"
   ]
  },
  {
   "cell_type": "code",
   "execution_count": 96,
   "metadata": {
    "collapsed": true
   },
   "outputs": [],
   "source": [
    "psents = floresta.parsed_sents()\n",
    "psents[5].draw() "
   ]
  },
  {
   "cell_type": "code",
   "execution_count": 105,
   "metadata": {},
   "outputs": [
    {
     "data": {
      "text/plain": [
       "nltk.tree.Tree"
      ]
     },
     "execution_count": 105,
     "metadata": {},
     "output_type": "execute_result"
    }
   ],
   "source": [
    "type(psents)"
   ]
  },
  {
   "cell_type": "code",
   "execution_count": 100,
   "metadata": {},
   "outputs": [
    {
     "data": {
      "text/plain": [
       "['«',\n",
       " 'O',\n",
       " 'senhor',\n",
       " 'ministro',\n",
       " 'interpretará',\n",
       " 'esta',\n",
       " 'sugestão',\n",
       " 'como',\n",
       " 'entender',\n",
       " '.']"
      ]
     },
     "execution_count": 100,
     "metadata": {},
     "output_type": "execute_result"
    }
   ],
   "source": [
    "floresta.sents()[20]"
   ]
  },
  {
   "cell_type": "code",
   "execution_count": 110,
   "metadata": {},
   "outputs": [
    {
     "data": {
      "text/plain": [
       "nltk.tree.Tree"
      ]
     },
     "execution_count": 110,
     "metadata": {},
     "output_type": "execute_result"
    }
   ],
   "source": [
    "psents = floresta.parsed_sents()[20]\n",
    "type(psents)"
   ]
  },
  {
   "cell_type": "code",
   "execution_count": 112,
   "metadata": {},
   "outputs": [
    {
     "data": {
      "text/plain": [
       "[Tree('«', ['«']),\n",
       " Tree('SUBJ+np', [Tree('>N+art', ['O']), Tree('H+n', ['senhor']), Tree('N<+n', ['ministro'])]),\n",
       " Tree('P+v-fin', ['interpretará']),\n",
       " Tree('ACC+np', [Tree('>N+pron-det', ['esta']), Tree('H+n', ['sugestão'])]),\n",
       " Tree('ADVL+pp', [Tree('H+prp', ['como']), Tree('P<+v-fin', ['entender'])]),\n",
       " Tree('»\"', []),\n",
       " Tree('.', ['.'])]"
      ]
     },
     "execution_count": 112,
     "metadata": {},
     "output_type": "execute_result"
    }
   ],
   "source": [
    "psents[:30]"
   ]
  },
  {
   "cell_type": "code",
   "execution_count": 111,
   "metadata": {
    "collapsed": true
   },
   "outputs": [],
   "source": [
    "psents.draw() "
   ]
  },
  {
   "cell_type": "code",
   "execution_count": 104,
   "metadata": {},
   "outputs": [
    {
     "name": "stdout",
     "output_type": "stream",
     "text": [
      "/Users/valencar/Dropbox/Slides-DataScienceUEPB-2017/Praticas/machineLearning/PLN\r\n"
     ]
    }
   ],
   "source": [
    "!pwd"
   ]
  },
  {
   "cell_type": "code",
   "execution_count": 36,
   "metadata": {
    "collapsed": true
   },
   "outputs": [],
   "source": [
    "import nltk"
   ]
  },
  {
   "cell_type": "code",
   "execution_count": 10,
   "metadata": {
    "collapsed": true
   },
   "outputs": [],
   "source": [
    "from gensim.models import Word2Vec\n",
    "from nltk.corpus import brown, movie_reviews, treebank"
   ]
  },
  {
   "cell_type": "code",
   "execution_count": null,
   "metadata": {
    "collapsed": true
   },
   "outputs": [],
   "source": [
    "b = Word2Vec(brown.sents())\n",
    "mr = Word2Vec(movie_reviews.sents())\n",
    "t = Word2Vec(treebank.sents())"
   ]
  },
  {
   "cell_type": "code",
   "execution_count": 40,
   "metadata": {},
   "outputs": [
    {
     "data": {
      "text/plain": [
       "[('care', 0.9141373634338379),\n",
       " ('chance', 0.9031793475151062),\n",
       " ('job', 0.8931745290756226),\n",
       " ('trouble', 0.867975115776062),\n",
       " ('easy', 0.8590294718742371)]"
      ]
     },
     "execution_count": 40,
     "metadata": {},
     "output_type": "execute_result"
    }
   ],
   "source": [
    "b.most_similar('money', topn=5)"
   ]
  },
  {
   "cell_type": "code",
   "execution_count": 43,
   "metadata": {
    "collapsed": true
   },
   "outputs": [],
   "source": [
    "t = Word2Vec(floresta.sents())"
   ]
  },
  {
   "cell_type": "code",
   "execution_count": 46,
   "metadata": {},
   "outputs": [
    {
     "data": {
      "text/plain": [
       "[('encontrar', 0.9994375109672546),\n",
       " ('sido', 0.9993372559547424),\n",
       " ('Ele', 0.999332845211029),\n",
       " ('gente', 0.9993289709091187),\n",
       " ('Só', 0.9993187785148621)]"
      ]
     },
     "execution_count": 46,
     "metadata": {},
     "output_type": "execute_result"
    }
   ],
   "source": [
    "t.most_similar('senhor', topn=5)"
   ]
  },
  {
   "cell_type": "code",
   "execution_count": 127,
   "metadata": {},
   "outputs": [
    {
     "ename": "AttributeError",
     "evalue": "'list' object has no attribute 'sents'",
     "output_type": "error",
     "traceback": [
      "\u001b[0;31m---------------------------------------------------------------------------\u001b[0m",
      "\u001b[0;31mAttributeError\u001b[0m                            Traceback (most recent call last)",
      "\u001b[0;32m<ipython-input-127-e6d7cb646b55>\u001b[0m in \u001b[0;36m<module>\u001b[0;34m()\u001b[0m\n\u001b[0;32m----> 1\u001b[0;31m \u001b[0ms\u001b[0m \u001b[0;34m=\u001b[0m \u001b[0mWord2Vec\u001b[0m\u001b[0;34m(\u001b[0m\u001b[0mhamlet\u001b[0m\u001b[0;34m.\u001b[0m\u001b[0msents\u001b[0m\u001b[0;34m(\u001b[0m\u001b[0;34m)\u001b[0m\u001b[0;34m)\u001b[0m\u001b[0;34m\u001b[0m\u001b[0m\n\u001b[0m",
      "\u001b[0;31mAttributeError\u001b[0m: 'list' object has no attribute 'sents'"
     ]
    }
   ],
   "source": [
    "s = Word2Vec(hamlet.sents())"
   ]
  },
  {
   "cell_type": "code",
   "execution_count": 124,
   "metadata": {},
   "outputs": [
    {
     "data": {
      "text/plain": [
       "[('já', 0.9996774792671204),\n",
       " ('política', 0.9996739029884338),\n",
       " ('primeira', 0.9996469616889954),\n",
       " ('primeiro', 0.9995967149734497),\n",
       " ('história', 0.9995721578598022),\n",
       " ('noite', 0.9995443820953369),\n",
       " ('abertura', 0.9995297789573669),\n",
       " ('maior', 0.9994939565658569),\n",
       " ('depois', 0.9994921684265137)]"
      ]
     },
     "execution_count": 124,
     "metadata": {},
     "output_type": "execute_result"
    }
   ],
   "source": [
    "t.most_similar('morte', topn=9)"
   ]
  },
  {
   "cell_type": "code",
   "execution_count": 16,
   "metadata": {
    "collapsed": true
   },
   "outputs": [],
   "source": [
    "n = Word2Vec(stext.split('.'))"
   ]
  },
  {
   "cell_type": "code",
   "execution_count": 11,
   "metadata": {
    "collapsed": true
   },
   "outputs": [],
   "source": [
    "n = Word2Vec(text)"
   ]
  },
  {
   "cell_type": "code",
   "execution_count": 12,
   "metadata": {},
   "outputs": [
    {
     "data": {
      "text/plain": [
       "100"
      ]
     },
     "execution_count": 12,
     "metadata": {},
     "output_type": "execute_result"
    }
   ],
   "source": [
    "n.vector_size"
   ]
  },
  {
   "cell_type": "code",
   "execution_count": 22,
   "metadata": {},
   "outputs": [
    {
     "name": "stdout",
     "output_type": "stream",
     "text": [
      "None\n"
     ]
    }
   ],
   "source": [
    "print(n.max_vocab_size)"
   ]
  },
  {
   "cell_type": "code",
   "execution_count": 18,
   "metadata": {},
   "outputs": [
    {
     "ename": "KeyError",
     "evalue": "\"word 'uol' not in vocabulary\"",
     "output_type": "error",
     "traceback": [
      "\u001b[0;31m---------------------------------------------------------------------------\u001b[0m",
      "\u001b[0;31mKeyError\u001b[0m                                  Traceback (most recent call last)",
      "\u001b[0;32m<ipython-input-18-dab7b23fc5e5>\u001b[0m in \u001b[0;36m<module>\u001b[0;34m()\u001b[0m\n\u001b[0;32m----> 1\u001b[0;31m \u001b[0mn\u001b[0m\u001b[0;34m.\u001b[0m\u001b[0mmost_similar\u001b[0m\u001b[0;34m(\u001b[0m\u001b[0;34m'uol'\u001b[0m\u001b[0;34m)\u001b[0m\u001b[0;34m\u001b[0m\u001b[0m\n\u001b[0m",
      "\u001b[0;32m~/anaconda3/lib/python3.5/site-packages/gensim/models/word2vec.py\u001b[0m in \u001b[0;36mmost_similar\u001b[0;34m(self, positive, negative, topn, restrict_vocab, indexer)\u001b[0m\n\u001b[1;32m   1301\u001b[0m         \u001b[0mRefer\u001b[0m \u001b[0mto\u001b[0m \u001b[0mthe\u001b[0m \u001b[0mdocumentation\u001b[0m \u001b[0;32mfor\u001b[0m\u001b[0;31m \u001b[0m\u001b[0;31m`\u001b[0m\u001b[0mgensim\u001b[0m\u001b[0;34m.\u001b[0m\u001b[0mmodels\u001b[0m\u001b[0;34m.\u001b[0m\u001b[0mKeyedVectors\u001b[0m\u001b[0;34m.\u001b[0m\u001b[0mmost_similar\u001b[0m\u001b[0;31m`\u001b[0m\u001b[0;34m\u001b[0m\u001b[0m\n\u001b[1;32m   1302\u001b[0m         \"\"\"\n\u001b[0;32m-> 1303\u001b[0;31m         \u001b[0;32mreturn\u001b[0m \u001b[0mself\u001b[0m\u001b[0;34m.\u001b[0m\u001b[0mwv\u001b[0m\u001b[0;34m.\u001b[0m\u001b[0mmost_similar\u001b[0m\u001b[0;34m(\u001b[0m\u001b[0mpositive\u001b[0m\u001b[0;34m,\u001b[0m \u001b[0mnegative\u001b[0m\u001b[0;34m,\u001b[0m \u001b[0mtopn\u001b[0m\u001b[0;34m,\u001b[0m \u001b[0mrestrict_vocab\u001b[0m\u001b[0;34m,\u001b[0m \u001b[0mindexer\u001b[0m\u001b[0;34m)\u001b[0m\u001b[0;34m\u001b[0m\u001b[0m\n\u001b[0m\u001b[1;32m   1304\u001b[0m \u001b[0;34m\u001b[0m\u001b[0m\n\u001b[1;32m   1305\u001b[0m     \u001b[0;32mdef\u001b[0m \u001b[0mwmdistance\u001b[0m\u001b[0;34m(\u001b[0m\u001b[0mself\u001b[0m\u001b[0;34m,\u001b[0m \u001b[0mdocument1\u001b[0m\u001b[0;34m,\u001b[0m \u001b[0mdocument2\u001b[0m\u001b[0;34m)\u001b[0m\u001b[0;34m:\u001b[0m\u001b[0;34m\u001b[0m\u001b[0m\n",
      "\u001b[0;32m~/anaconda3/lib/python3.5/site-packages/gensim/models/keyedvectors.py\u001b[0m in \u001b[0;36mmost_similar\u001b[0;34m(self, positive, negative, topn, restrict_vocab, indexer)\u001b[0m\n\u001b[1;32m    334\u001b[0m                 \u001b[0mmean\u001b[0m\u001b[0;34m.\u001b[0m\u001b[0mappend\u001b[0m\u001b[0;34m(\u001b[0m\u001b[0mweight\u001b[0m \u001b[0;34m*\u001b[0m \u001b[0mword\u001b[0m\u001b[0;34m)\u001b[0m\u001b[0;34m\u001b[0m\u001b[0m\n\u001b[1;32m    335\u001b[0m             \u001b[0;32melse\u001b[0m\u001b[0;34m:\u001b[0m\u001b[0;34m\u001b[0m\u001b[0m\n\u001b[0;32m--> 336\u001b[0;31m                 \u001b[0mmean\u001b[0m\u001b[0;34m.\u001b[0m\u001b[0mappend\u001b[0m\u001b[0;34m(\u001b[0m\u001b[0mweight\u001b[0m \u001b[0;34m*\u001b[0m \u001b[0mself\u001b[0m\u001b[0;34m.\u001b[0m\u001b[0mword_vec\u001b[0m\u001b[0;34m(\u001b[0m\u001b[0mword\u001b[0m\u001b[0;34m,\u001b[0m \u001b[0muse_norm\u001b[0m\u001b[0;34m=\u001b[0m\u001b[0;32mTrue\u001b[0m\u001b[0;34m)\u001b[0m\u001b[0;34m)\u001b[0m\u001b[0;34m\u001b[0m\u001b[0m\n\u001b[0m\u001b[1;32m    337\u001b[0m                 \u001b[0;32mif\u001b[0m \u001b[0mword\u001b[0m \u001b[0;32min\u001b[0m \u001b[0mself\u001b[0m\u001b[0;34m.\u001b[0m\u001b[0mvocab\u001b[0m\u001b[0;34m:\u001b[0m\u001b[0;34m\u001b[0m\u001b[0m\n\u001b[1;32m    338\u001b[0m                     \u001b[0mall_words\u001b[0m\u001b[0;34m.\u001b[0m\u001b[0madd\u001b[0m\u001b[0;34m(\u001b[0m\u001b[0mself\u001b[0m\u001b[0;34m.\u001b[0m\u001b[0mvocab\u001b[0m\u001b[0;34m[\u001b[0m\u001b[0mword\u001b[0m\u001b[0;34m]\u001b[0m\u001b[0;34m.\u001b[0m\u001b[0mindex\u001b[0m\u001b[0;34m)\u001b[0m\u001b[0;34m\u001b[0m\u001b[0m\n",
      "\u001b[0;32m~/anaconda3/lib/python3.5/site-packages/gensim/models/keyedvectors.py\u001b[0m in \u001b[0;36mword_vec\u001b[0;34m(self, word, use_norm)\u001b[0m\n\u001b[1;32m    282\u001b[0m                 \u001b[0;32mreturn\u001b[0m \u001b[0mself\u001b[0m\u001b[0;34m.\u001b[0m\u001b[0msyn0\u001b[0m\u001b[0;34m[\u001b[0m\u001b[0mself\u001b[0m\u001b[0;34m.\u001b[0m\u001b[0mvocab\u001b[0m\u001b[0;34m[\u001b[0m\u001b[0mword\u001b[0m\u001b[0;34m]\u001b[0m\u001b[0;34m.\u001b[0m\u001b[0mindex\u001b[0m\u001b[0;34m]\u001b[0m\u001b[0;34m\u001b[0m\u001b[0m\n\u001b[1;32m    283\u001b[0m         \u001b[0;32melse\u001b[0m\u001b[0;34m:\u001b[0m\u001b[0;34m\u001b[0m\u001b[0m\n\u001b[0;32m--> 284\u001b[0;31m             \u001b[0;32mraise\u001b[0m \u001b[0mKeyError\u001b[0m\u001b[0;34m(\u001b[0m\u001b[0;34m\"word '%s' not in vocabulary\"\u001b[0m \u001b[0;34m%\u001b[0m \u001b[0mword\u001b[0m\u001b[0;34m)\u001b[0m\u001b[0;34m\u001b[0m\u001b[0m\n\u001b[0m\u001b[1;32m    285\u001b[0m \u001b[0;34m\u001b[0m\u001b[0m\n\u001b[1;32m    286\u001b[0m     \u001b[0;32mdef\u001b[0m \u001b[0mmost_similar\u001b[0m\u001b[0;34m(\u001b[0m\u001b[0mself\u001b[0m\u001b[0;34m,\u001b[0m \u001b[0mpositive\u001b[0m\u001b[0;34m=\u001b[0m\u001b[0;32mNone\u001b[0m\u001b[0;34m,\u001b[0m \u001b[0mnegative\u001b[0m\u001b[0;34m=\u001b[0m\u001b[0;32mNone\u001b[0m\u001b[0;34m,\u001b[0m \u001b[0mtopn\u001b[0m\u001b[0;34m=\u001b[0m\u001b[0;36m10\u001b[0m\u001b[0;34m,\u001b[0m \u001b[0mrestrict_vocab\u001b[0m\u001b[0;34m=\u001b[0m\u001b[0;32mNone\u001b[0m\u001b[0;34m,\u001b[0m \u001b[0mindexer\u001b[0m\u001b[0;34m=\u001b[0m\u001b[0;32mNone\u001b[0m\u001b[0;34m)\u001b[0m\u001b[0;34m:\u001b[0m\u001b[0;34m\u001b[0m\u001b[0m\n",
      "\u001b[0;31mKeyError\u001b[0m: \"word 'uol' not in vocabulary\""
     ]
    }
   ],
   "source": [
    "n.most_similar('uol')"
   ]
  },
  {
   "cell_type": "code",
   "execution_count": 69,
   "metadata": {
    "collapsed": true
   },
   "outputs": [],
   "source": [
    "ss = '\\n\\n'.join(stext.split('.'))"
   ]
  },
  {
   "cell_type": "code",
   "execution_count": 74,
   "metadata": {},
   "outputs": [
    {
     "data": {
      "text/plain": [
       "' Do UOL, em São Paulo  UOL A professora de português Maria Márcia Garrote  A prova de português do Enem (Exame Nacional do Ensino Médio), aplicada neste domingo (5),\\xa0chamou a atenção pela versatilidade de estilos de textos, que variaram de uma música popular do grupo de rap Racionais MC´s a um conto do escritor Machado de Assis\\n\\n  Em debate no estúdio do UOL, a professora de português Maria Marcia Garrote, do cursinho Objetivo, afirmou que os textos da prova foram usados de diversas maneiras, tanto para dar um enfoque social a determinados assuntos como para explorar as nuances da alma humana\\n\\n  A letra da música Fim de semana no Parque, dos Racionais, foi reproduzida na prova para abordar o tema do contraste entre os espaços de lazer na periferia e nas partes mais ricas das cidades, segundo a professora\\n\\n  Também foi feita referência aos Festivais Internacionais da Canção e reproduzido um texto do ator e cronista Gregório\\xa0 Duvivier\\n\\n  A professora citou uma questão que trazia um conto do escritor Machado de Assis chamado A Causa Secreta\\n\\n Nele, o personagem Fortunato, que estudou medicina, se esforçava para ajudar os mais variados personagens enfermos\\n\\n \"Mas no final você vê que ele curte ver o sofrimento do outro\", disse Maria\\n\\n  \"Eles conseguiram abranger todos os gêneros na prova\", afirmou a professora\\n\\n Leia também:  Segundo o professor do cursinho Objetivo Aleksander Brunhara da Cruz, a prova de inglês teve textos longos e vocabulário difícil\\n\\n \"Se o aluno não tivesse um conhecimento bom não conseguiria fazer\", afirmou\\n\\n  Na avaliação do professor, foi preciso ler com muita atenção os textos oferecidos pela prova para escolher entre opções de respostas muito parecidas\\n\\n Além disso, o vocabulário usado nesses textos era mais complexo que o de versões anteriores da prova de inglês do Enem\\n\\n   © UOL 1996-2017'"
      ]
     },
     "execution_count": 74,
     "metadata": {},
     "output_type": "execute_result"
    }
   ],
   "source": [
    "ss"
   ]
  },
  {
   "cell_type": "code",
   "execution_count": 23,
   "metadata": {},
   "outputs": [
    {
     "data": {
      "text/plain": [
       "' Do UOL, em São Paulo  UOL A professora de português Maria Márcia Garrote  A prova de português do Enem (Exame Nacional do Ensino Médio), aplicada neste domingo (5),\\xa0chamou a atenção pela versatilidade de estilos de textos, que variaram de uma música popular do grupo de rap Racionais MC´s a um conto do escritor Machado de Assis.  Em debate no estúdio do UOL, a professora de português Maria Marcia Garrote, do cursinho Objetivo, afirmou que os textos da prova foram usados de diversas maneiras, tanto para dar um enfoque social a determinados assuntos como para explorar as nuances da alma humana.  A letra da música Fim de semana no Parque, dos Racionais, foi reproduzida na prova para abordar o tema do contraste entre os espaços de lazer na periferia e nas partes mais ricas das cidades, segundo a professora.  Também foi feita referência aos Festivais Internacionais da Canção e reproduzido um texto do ator e cronista Gregório\\xa0 Duvivier.  A professora citou uma questão que trazia um conto do escritor Machado de Assis chamado A Causa Secreta. Nele, o personagem Fortunato, que estudou medicina, se esforçava para ajudar os mais variados personagens enfermos. \"Mas no final você vê que ele curte ver o sofrimento do outro\", disse Maria.  \"Eles conseguiram abranger todos os gêneros na prova\", afirmou a professora. Leia também:  Segundo o professor do cursinho Objetivo Aleksander Brunhara da Cruz, a prova de inglês teve textos longos e vocabulário difícil. \"Se o aluno não tivesse um conhecimento bom não conseguiria fazer\", afirmou.  Na avaliação do professor, foi preciso ler com muita atenção os textos oferecidos pela prova para escolher entre opções de respostas muito parecidas. Além disso, o vocabulário usado nesses textos era mais complexo que o de versões anteriores da prova de inglês do Enem.   © UOL 1996-2017'"
      ]
     },
     "execution_count": 23,
     "metadata": {},
     "output_type": "execute_result"
    }
   ],
   "source": [
    "stext"
   ]
  },
  {
   "cell_type": "code",
   "execution_count": 31,
   "metadata": {
    "collapsed": true
   },
   "outputs": [],
   "source": [
    "file = open(\"uol.txt\",\"w\") \n",
    "file.write(stext.lower())  \n",
    "file.close() "
   ]
  },
  {
   "cell_type": "code",
   "execution_count": 70,
   "metadata": {
    "collapsed": true
   },
   "outputs": [],
   "source": [
    "uol = newcorpus.words('uol.txt')\n",
    "corpus = ss"
   ]
  },
  {
   "cell_type": "code",
   "execution_count": 71,
   "metadata": {
    "collapsed": true
   },
   "outputs": [],
   "source": [
    "from nltk import sent_tokenize"
   ]
  },
  {
   "cell_type": "code",
   "execution_count": 72,
   "metadata": {
    "collapsed": true
   },
   "outputs": [],
   "source": [
    "# Tokenization com NLTK - este processo é demorado!!!\n",
    "sentences = [[w.lower() for w in word_tokenize(sentence, language = 'portuguese')] \n",
    "             for sentence in sent_tokenize(corpus, language = 'portuguese')]"
   ]
  },
  {
   "cell_type": "code",
   "execution_count": 73,
   "metadata": {},
   "outputs": [
    {
     "data": {
      "text/plain": [
       "[['do',\n",
       "  'uol',\n",
       "  ',',\n",
       "  'em',\n",
       "  'são',\n",
       "  'paulo',\n",
       "  'uol',\n",
       "  'a',\n",
       "  'professora',\n",
       "  'de',\n",
       "  'português',\n",
       "  'maria',\n",
       "  'márcia',\n",
       "  'garrote',\n",
       "  'a',\n",
       "  'prova',\n",
       "  'de',\n",
       "  'português',\n",
       "  'do',\n",
       "  'enem',\n",
       "  '(',\n",
       "  'exame',\n",
       "  'nacional',\n",
       "  'do',\n",
       "  'ensino',\n",
       "  'médio',\n",
       "  ')',\n",
       "  ',',\n",
       "  'aplicada',\n",
       "  'neste',\n",
       "  'domingo',\n",
       "  '(',\n",
       "  '5',\n",
       "  ')',\n",
       "  ',',\n",
       "  'chamou',\n",
       "  'a',\n",
       "  'atenção',\n",
       "  'pela',\n",
       "  'versatilidade',\n",
       "  'de',\n",
       "  'estilos',\n",
       "  'de',\n",
       "  'textos',\n",
       "  ',',\n",
       "  'que',\n",
       "  'variaram',\n",
       "  'de',\n",
       "  'uma',\n",
       "  'música',\n",
       "  'popular',\n",
       "  'do',\n",
       "  'grupo',\n",
       "  'de',\n",
       "  'rap',\n",
       "  'racionais',\n",
       "  'mc´s',\n",
       "  'a',\n",
       "  'um',\n",
       "  'conto',\n",
       "  'do',\n",
       "  'escritor',\n",
       "  'machado',\n",
       "  'de',\n",
       "  'assis',\n",
       "  'em',\n",
       "  'debate',\n",
       "  'no',\n",
       "  'estúdio',\n",
       "  'do',\n",
       "  'uol',\n",
       "  ',',\n",
       "  'a',\n",
       "  'professora',\n",
       "  'de',\n",
       "  'português',\n",
       "  'maria',\n",
       "  'marcia',\n",
       "  'garrote',\n",
       "  ',',\n",
       "  'do',\n",
       "  'cursinho',\n",
       "  'objetivo',\n",
       "  ',',\n",
       "  'afirmou',\n",
       "  'que',\n",
       "  'os',\n",
       "  'textos',\n",
       "  'da',\n",
       "  'prova',\n",
       "  'foram',\n",
       "  'usados',\n",
       "  'de',\n",
       "  'diversas',\n",
       "  'maneiras',\n",
       "  ',',\n",
       "  'tanto',\n",
       "  'para',\n",
       "  'dar',\n",
       "  'um',\n",
       "  'enfoque',\n",
       "  'social',\n",
       "  'a',\n",
       "  'determinados',\n",
       "  'assuntos',\n",
       "  'como',\n",
       "  'para',\n",
       "  'explorar',\n",
       "  'as',\n",
       "  'nuances',\n",
       "  'da',\n",
       "  'alma',\n",
       "  'humana',\n",
       "  'a',\n",
       "  'letra',\n",
       "  'da',\n",
       "  'música',\n",
       "  'fim',\n",
       "  'de',\n",
       "  'semana',\n",
       "  'no',\n",
       "  'parque',\n",
       "  ',',\n",
       "  'dos',\n",
       "  'racionais',\n",
       "  ',',\n",
       "  'foi',\n",
       "  'reproduzida',\n",
       "  'na',\n",
       "  'prova',\n",
       "  'para',\n",
       "  'abordar',\n",
       "  'o',\n",
       "  'tema',\n",
       "  'do',\n",
       "  'contraste',\n",
       "  'entre',\n",
       "  'os',\n",
       "  'espaços',\n",
       "  'de',\n",
       "  'lazer',\n",
       "  'na',\n",
       "  'periferia',\n",
       "  'e',\n",
       "  'nas',\n",
       "  'partes',\n",
       "  'mais',\n",
       "  'ricas',\n",
       "  'das',\n",
       "  'cidades',\n",
       "  ',',\n",
       "  'segundo',\n",
       "  'a',\n",
       "  'professora',\n",
       "  'também',\n",
       "  'foi',\n",
       "  'feita',\n",
       "  'referência',\n",
       "  'aos',\n",
       "  'festivais',\n",
       "  'internacionais',\n",
       "  'da',\n",
       "  'canção',\n",
       "  'e',\n",
       "  'reproduzido',\n",
       "  'um',\n",
       "  'texto',\n",
       "  'do',\n",
       "  'ator',\n",
       "  'e',\n",
       "  'cronista',\n",
       "  'gregório',\n",
       "  'duvivier',\n",
       "  'a',\n",
       "  'professora',\n",
       "  'citou',\n",
       "  'uma',\n",
       "  'questão',\n",
       "  'que',\n",
       "  'trazia',\n",
       "  'um',\n",
       "  'conto',\n",
       "  'do',\n",
       "  'escritor',\n",
       "  'machado',\n",
       "  'de',\n",
       "  'assis',\n",
       "  'chamado',\n",
       "  'a',\n",
       "  'causa',\n",
       "  'secreta',\n",
       "  'nele',\n",
       "  ',',\n",
       "  'o',\n",
       "  'personagem',\n",
       "  'fortunato',\n",
       "  ',',\n",
       "  'que',\n",
       "  'estudou',\n",
       "  'medicina',\n",
       "  ',',\n",
       "  'se',\n",
       "  'esforçava',\n",
       "  'para',\n",
       "  'ajudar',\n",
       "  'os',\n",
       "  'mais',\n",
       "  'variados',\n",
       "  'personagens',\n",
       "  'enfermos',\n",
       "  '``',\n",
       "  'mas',\n",
       "  'no',\n",
       "  'final',\n",
       "  'você',\n",
       "  'vê',\n",
       "  'que',\n",
       "  'ele',\n",
       "  'curte',\n",
       "  'ver',\n",
       "  'o',\n",
       "  'sofrimento',\n",
       "  'do',\n",
       "  'outro',\n",
       "  \"''\",\n",
       "  ',',\n",
       "  'disse',\n",
       "  'maria',\n",
       "  '``',\n",
       "  'eles',\n",
       "  'conseguiram',\n",
       "  'abranger',\n",
       "  'todos',\n",
       "  'os',\n",
       "  'gêneros',\n",
       "  'na',\n",
       "  'prova',\n",
       "  \"''\",\n",
       "  ',',\n",
       "  'afirmou',\n",
       "  'a',\n",
       "  'professora',\n",
       "  'leia',\n",
       "  'também',\n",
       "  ':',\n",
       "  'segundo',\n",
       "  'o',\n",
       "  'professor',\n",
       "  'do',\n",
       "  'cursinho',\n",
       "  'objetivo',\n",
       "  'aleksander',\n",
       "  'brunhara',\n",
       "  'da',\n",
       "  'cruz',\n",
       "  ',',\n",
       "  'a',\n",
       "  'prova',\n",
       "  'de',\n",
       "  'inglês',\n",
       "  'teve',\n",
       "  'textos',\n",
       "  'longos',\n",
       "  'e',\n",
       "  'vocabulário',\n",
       "  'difícil',\n",
       "  '``',\n",
       "  'se',\n",
       "  'o',\n",
       "  'aluno',\n",
       "  'não',\n",
       "  'tivesse',\n",
       "  'um',\n",
       "  'conhecimento',\n",
       "  'bom',\n",
       "  'não',\n",
       "  'conseguiria',\n",
       "  'fazer',\n",
       "  \"''\",\n",
       "  ',',\n",
       "  'afirmou',\n",
       "  'na',\n",
       "  'avaliação',\n",
       "  'do',\n",
       "  'professor',\n",
       "  ',',\n",
       "  'foi',\n",
       "  'preciso',\n",
       "  'ler',\n",
       "  'com',\n",
       "  'muita',\n",
       "  'atenção',\n",
       "  'os',\n",
       "  'textos',\n",
       "  'oferecidos',\n",
       "  'pela',\n",
       "  'prova',\n",
       "  'para',\n",
       "  'escolher',\n",
       "  'entre',\n",
       "  'opções',\n",
       "  'de',\n",
       "  'respostas',\n",
       "  'muito',\n",
       "  'parecidas',\n",
       "  'além',\n",
       "  'disso',\n",
       "  ',',\n",
       "  'o',\n",
       "  'vocabulário',\n",
       "  'usado',\n",
       "  'nesses',\n",
       "  'textos',\n",
       "  'era',\n",
       "  'mais',\n",
       "  'complexo',\n",
       "  'que',\n",
       "  'o',\n",
       "  'de',\n",
       "  'versões',\n",
       "  'anteriores',\n",
       "  'da',\n",
       "  'prova',\n",
       "  'de',\n",
       "  'inglês',\n",
       "  'do',\n",
       "  'enem',\n",
       "  '©',\n",
       "  'uol',\n",
       "  '1996-2017']]"
      ]
     },
     "execution_count": 73,
     "metadata": {},
     "output_type": "execute_result"
    }
   ],
   "source": [
    "sentences"
   ]
  },
  {
   "cell_type": "code",
   "execution_count": 43,
   "metadata": {},
   "outputs": [
    {
     "data": {
      "text/plain": [
       "['do',\n",
       " 'uol',\n",
       " ',',\n",
       " 'em',\n",
       " 'são',\n",
       " 'paulo',\n",
       " 'uol',\n",
       " 'a',\n",
       " 'professora',\n",
       " 'de',\n",
       " 'português',\n",
       " 'maria',\n",
       " 'márcia',\n",
       " 'garrote',\n",
       " 'a',\n",
       " 'prova',\n",
       " 'de',\n",
       " 'português',\n",
       " 'do',\n",
       " 'enem',\n",
       " '(',\n",
       " 'exame',\n",
       " 'nacional',\n",
       " 'do',\n",
       " 'ensino',\n",
       " 'médio',\n",
       " ')',\n",
       " ',',\n",
       " 'aplicada',\n",
       " 'neste',\n",
       " 'domingo',\n",
       " '(',\n",
       " '5',\n",
       " ')',\n",
       " ',',\n",
       " 'chamou',\n",
       " 'a',\n",
       " 'atenção',\n",
       " 'pela',\n",
       " 'versatilidade',\n",
       " 'de',\n",
       " 'estilos',\n",
       " 'de',\n",
       " 'textos',\n",
       " ',',\n",
       " 'que',\n",
       " 'variaram',\n",
       " 'de',\n",
       " 'uma',\n",
       " 'música',\n",
       " 'popular',\n",
       " 'do',\n",
       " 'grupo',\n",
       " 'de',\n",
       " 'rap',\n",
       " 'racionais',\n",
       " 'mc´s',\n",
       " 'a',\n",
       " 'um',\n",
       " 'conto',\n",
       " 'do',\n",
       " 'escritor',\n",
       " 'machado',\n",
       " 'de',\n",
       " 'assis',\n",
       " '.',\n",
       " 'em',\n",
       " 'debate',\n",
       " 'no',\n",
       " 'estúdio',\n",
       " 'do',\n",
       " 'uol',\n",
       " ',',\n",
       " 'a',\n",
       " 'professora',\n",
       " 'de',\n",
       " 'português',\n",
       " 'maria',\n",
       " 'marcia',\n",
       " 'garrote',\n",
       " ',',\n",
       " 'do',\n",
       " 'cursinho',\n",
       " 'objetivo',\n",
       " ',',\n",
       " 'afirmou',\n",
       " 'que',\n",
       " 'os',\n",
       " 'textos',\n",
       " 'da',\n",
       " 'prova',\n",
       " 'foram',\n",
       " 'usados',\n",
       " 'de',\n",
       " 'diversas',\n",
       " 'maneiras',\n",
       " ',',\n",
       " 'tanto',\n",
       " 'para',\n",
       " 'dar',\n",
       " 'um',\n",
       " 'enfoque',\n",
       " 'social',\n",
       " 'a',\n",
       " 'determinados',\n",
       " 'assuntos',\n",
       " 'como',\n",
       " 'para',\n",
       " 'explorar',\n",
       " 'as',\n",
       " 'nuances',\n",
       " 'da',\n",
       " 'alma',\n",
       " 'humana',\n",
       " '.',\n",
       " 'a',\n",
       " 'letra',\n",
       " 'da',\n",
       " 'música',\n",
       " 'fim',\n",
       " 'de',\n",
       " 'semana',\n",
       " 'no',\n",
       " 'parque',\n",
       " ',',\n",
       " 'dos',\n",
       " 'racionais',\n",
       " ',',\n",
       " 'foi',\n",
       " 'reproduzida',\n",
       " 'na',\n",
       " 'prova',\n",
       " 'para',\n",
       " 'abordar',\n",
       " 'o',\n",
       " 'tema',\n",
       " 'do',\n",
       " 'contraste',\n",
       " 'entre',\n",
       " 'os',\n",
       " 'espaços',\n",
       " 'de',\n",
       " 'lazer',\n",
       " 'na',\n",
       " 'periferia',\n",
       " 'e',\n",
       " 'nas',\n",
       " 'partes',\n",
       " 'mais',\n",
       " 'ricas',\n",
       " 'das',\n",
       " 'cidades',\n",
       " ',',\n",
       " 'segundo',\n",
       " 'a',\n",
       " 'professora',\n",
       " '.',\n",
       " 'também',\n",
       " 'foi',\n",
       " 'feita',\n",
       " 'referência',\n",
       " 'aos',\n",
       " 'festivais',\n",
       " 'internacionais',\n",
       " 'da',\n",
       " 'canção',\n",
       " 'e',\n",
       " 'reproduzido',\n",
       " 'um',\n",
       " 'texto',\n",
       " 'do',\n",
       " 'ator',\n",
       " 'e',\n",
       " 'cronista',\n",
       " 'gregório',\n",
       " 'duvivier',\n",
       " '.',\n",
       " 'a',\n",
       " 'professora',\n",
       " 'citou',\n",
       " 'uma',\n",
       " 'questão',\n",
       " 'que',\n",
       " 'trazia',\n",
       " 'um',\n",
       " 'conto',\n",
       " 'do',\n",
       " 'escritor',\n",
       " 'machado',\n",
       " 'de',\n",
       " 'assis',\n",
       " 'chamado',\n",
       " 'a',\n",
       " 'causa',\n",
       " 'secreta',\n",
       " '.',\n",
       " 'nele',\n",
       " ',',\n",
       " 'o',\n",
       " 'personagem',\n",
       " 'fortunato',\n",
       " ',',\n",
       " 'que',\n",
       " 'estudou',\n",
       " 'medicina',\n",
       " ',',\n",
       " 'se',\n",
       " 'esforçava',\n",
       " 'para',\n",
       " 'ajudar',\n",
       " 'os',\n",
       " 'mais',\n",
       " 'variados',\n",
       " 'personagens',\n",
       " 'enfermos',\n",
       " '.',\n",
       " '``',\n",
       " 'mas',\n",
       " 'no',\n",
       " 'final',\n",
       " 'você',\n",
       " 'vê',\n",
       " 'que',\n",
       " 'ele',\n",
       " 'curte',\n",
       " 'ver',\n",
       " 'o',\n",
       " 'sofrimento',\n",
       " 'do',\n",
       " 'outro',\n",
       " \"''\",\n",
       " ',',\n",
       " 'disse',\n",
       " 'maria',\n",
       " '.',\n",
       " '``',\n",
       " 'eles',\n",
       " 'conseguiram',\n",
       " 'abranger',\n",
       " 'todos',\n",
       " 'os',\n",
       " 'gêneros',\n",
       " 'na',\n",
       " 'prova',\n",
       " \"''\",\n",
       " ',',\n",
       " 'afirmou',\n",
       " 'a',\n",
       " 'professora',\n",
       " '.',\n",
       " 'leia',\n",
       " 'também',\n",
       " ':',\n",
       " 'segundo',\n",
       " 'o',\n",
       " 'professor',\n",
       " 'do',\n",
       " 'cursinho',\n",
       " 'objetivo',\n",
       " 'aleksander',\n",
       " 'brunhara',\n",
       " 'da',\n",
       " 'cruz',\n",
       " ',',\n",
       " 'a',\n",
       " 'prova',\n",
       " 'de',\n",
       " 'inglês',\n",
       " 'teve',\n",
       " 'textos',\n",
       " 'longos',\n",
       " 'e',\n",
       " 'vocabulário',\n",
       " 'difícil',\n",
       " '.',\n",
       " '``',\n",
       " 'se',\n",
       " 'o',\n",
       " 'aluno',\n",
       " 'não',\n",
       " 'tivesse',\n",
       " 'um',\n",
       " 'conhecimento',\n",
       " 'bom',\n",
       " 'não',\n",
       " 'conseguiria',\n",
       " 'fazer',\n",
       " \"''\",\n",
       " ',',\n",
       " 'afirmou',\n",
       " '.',\n",
       " 'na',\n",
       " 'avaliação',\n",
       " 'do',\n",
       " 'professor',\n",
       " ',',\n",
       " 'foi',\n",
       " 'preciso',\n",
       " 'ler',\n",
       " 'com',\n",
       " 'muita',\n",
       " 'atenção',\n",
       " 'os',\n",
       " 'textos',\n",
       " 'oferecidos',\n",
       " 'pela',\n",
       " 'prova',\n",
       " 'para',\n",
       " 'escolher',\n",
       " 'entre',\n",
       " 'opções',\n",
       " 'de',\n",
       " 'respostas',\n",
       " 'muito',\n",
       " 'parecidas',\n",
       " '.',\n",
       " 'além',\n",
       " 'disso',\n",
       " ',',\n",
       " 'o',\n",
       " 'vocabulário',\n",
       " 'usado',\n",
       " 'nesses',\n",
       " 'textos',\n",
       " 'era',\n",
       " 'mais',\n",
       " 'complexo',\n",
       " 'que',\n",
       " 'o',\n",
       " 'de',\n",
       " 'versões',\n",
       " 'anteriores',\n",
       " 'da',\n",
       " 'prova',\n",
       " 'de',\n",
       " 'inglês',\n",
       " 'do',\n",
       " 'enem',\n",
       " '.',\n",
       " '©',\n",
       " 'uol',\n",
       " '1996-2017']"
      ]
     },
     "execution_count": 43,
     "metadata": {},
     "output_type": "execute_result"
    }
   ],
   "source": [
    "wt = word_tokenize(stext.lower())\n",
    "wt"
   ]
  },
  {
   "cell_type": "code",
   "execution_count": 52,
   "metadata": {
    "collapsed": true
   },
   "outputs": [],
   "source": [
    "n = Word2Vec(sentences)"
   ]
  },
  {
   "cell_type": "code",
   "execution_count": 75,
   "metadata": {
    "collapsed": true
   },
   "outputs": [],
   "source": [
    "sentences = ss"
   ]
  },
  {
   "cell_type": "code",
   "execution_count": null,
   "metadata": {
    "collapsed": true
   },
   "outputs": [],
   "source": []
  },
  {
   "cell_type": "code",
   "execution_count": 115,
   "metadata": {
    "collapsed": true
   },
   "outputs": [],
   "source": [
    "sentences = newcorpus.sents('BrazCubas.txt')"
   ]
  },
  {
   "cell_type": "code",
   "execution_count": 116,
   "metadata": {},
   "outputs": [
    {
     "data": {
      "text/plain": [
       "[['Project', 'Gutenberg', \"'\", 's', 'Memorias', 'Postumas', 'de', 'Braz', 'Cubas', ',', 'by', 'Machado', 'de', 'Assis'], ['This', 'eBook', 'is', 'for', 'the', 'use', 'of', 'anyone', 'anywhere', 'in', 'the', 'United', 'States', 'and', 'most', 'other', 'parts', 'of', 'the', 'world', 'at', 'no', 'cost', 'and', 'with', 'almost', 'no', 'restrictions', 'whatsoever', '.'], ...]"
      ]
     },
     "execution_count": 116,
     "metadata": {},
     "output_type": "execute_result"
    }
   ],
   "source": [
    "sentences"
   ]
  },
  {
   "cell_type": "code",
   "execution_count": 117,
   "metadata": {
    "collapsed": true
   },
   "outputs": [],
   "source": [
    "modelo = Word2Vec(sentences, size = 100, window = 5, min_count = 5, workers = 8)\n",
    "modelo.init_sims(replace = True)"
   ]
  },
  {
   "cell_type": "code",
   "execution_count": 119,
   "metadata": {},
   "outputs": [
    {
     "data": {
      "text/plain": [
       "[('minha', 0.9998496770858765),\n",
       " ('vida', 0.9998371601104736),\n",
       " ('foi', 0.9998353719711304),\n",
       " ('do', 0.9998258352279663),\n",
       " ('á', 0.9998191595077515),\n",
       " ('ou', 0.9998160004615784),\n",
       " ('por', 0.9998104572296143),\n",
       " ('em', 0.9998103380203247),\n",
       " ('ao', 0.999809980392456),\n",
       " ('na', 0.9998047947883606)]"
      ]
     },
     "execution_count": 119,
     "metadata": {},
     "output_type": "execute_result"
    }
   ],
   "source": [
    "modelo.most_similar('morte')"
   ]
  },
  {
   "cell_type": "code",
   "execution_count": 126,
   "metadata": {},
   "outputs": [
    {
     "data": {
      "text/plain": [
       "[('meu', 0.9998875856399536),\n",
       " ('só', 0.9998833537101746),\n",
       " ('á', 0.999880313873291),\n",
       " ('do', 0.9998793601989746),\n",
       " ('outro', 0.999879002571106),\n",
       " ('até', 0.9998773336410522),\n",
       " ('ao', 0.9998764991760254),\n",
       " ('tudo', 0.999875009059906),\n",
       " (':', 0.9998736381530762),\n",
       " ('estava', 0.9998714327812195),\n",
       " ('foi', 0.999871015548706),\n",
       " ('no', 0.9998698830604553),\n",
       " ('porque', 0.9998698234558105),\n",
       " ('em', 0.9998679161071777),\n",
       " ('pouco', 0.9998665452003479),\n",
       " ('ainda', 0.9998648166656494),\n",
       " ('tão', 0.9998638033866882),\n",
       " ('nos', 0.9998587369918823),\n",
       " ('sem', 0.9998576045036316),\n",
       " ('mesmo', 0.9998553991317749)]"
      ]
     },
     "execution_count": 126,
     "metadata": {},
     "output_type": "execute_result"
    }
   ],
   "source": [
    "modelo.most_similar('homem', topn=20)"
   ]
  },
  {
   "cell_type": "code",
   "execution_count": null,
   "metadata": {
    "collapsed": true
   },
   "outputs": [],
   "source": []
  },
  {
   "cell_type": "code",
   "execution_count": null,
   "metadata": {
    "collapsed": true
   },
   "outputs": [],
   "source": []
  },
  {
   "cell_type": "code",
   "execution_count": 59,
   "metadata": {
    "collapsed": true
   },
   "outputs": [],
   "source": [
    "import codecs\n",
    "# Carregando o conteúdo do Corpus para um objeto Python\n",
    "with codecs.open('corpus.txt', encoding = 'utf8') as fp:\n",
    "    corpus = fp.read()"
   ]
  },
  {
   "cell_type": "code",
   "execution_count": 66,
   "metadata": {},
   "outputs": [
    {
     "data": {
      "text/plain": [
       "'Kit com 4 Pneus de Alta Performance Pirelli Aro 16 205/55R16 Phantom\\nChegou o kit que junta resistência e conforto, além de níveis máximos de segurança. São 4 pneus para seu carro ficar completo e com a qualificação que você precisa.\\nCom os conhecimentos avançados de hoje e um entusiasmo pela direção, os engenheiros da Pirelli puderam dar grandes passos. Cada pneu da Pirelli é responsável não só pelo desempenho, mas também por uma \"vontade de ir pra estrada\", comunicando-se com o motorista e gerando um melhor entendimento do desempenho do veículo, ou seja, a Pirelli transforma a sua viagem em uma aventura divertida e livre de problemas. Pneu Pirelli para carros com rodas aro 16, modelo high performance Phanthon, perfil baixo proporcionando maior estabilidade nas curvas, excelente qualidade e durabilidade para pistas.\\nImagens meramente ilustrativas.\\nTodas as informações divulgadas são de responsabilidade do fabricante/fornecedor.\\n\\nChandon Brut Rosé 750 ml\\nRosé é a expressão mais extrovertida e sedutora do estilo Möet & Chandon e ilustra perfeitamente seu espírito. Borbulhas pérolas rosa que refletem a amplitude e o brilho da rigorosa seleção do Pinot Noir e a riqueza dos melhores vi'"
      ]
     },
     "execution_count": 66,
     "metadata": {},
     "output_type": "execute_result"
    }
   ],
   "source": [
    "corpus[:1200]"
   ]
  },
  {
   "cell_type": "code",
   "execution_count": 129,
   "metadata": {},
   "outputs": [
    {
     "data": {
      "text/plain": [
       "['A',\n",
       " 'prova',\n",
       " 'de',\n",
       " 'português',\n",
       " 'do',\n",
       " 'Enem',\n",
       " 'foi',\n",
       " 'aplicada',\n",
       " 'neste',\n",
       " 'domingo']"
      ]
     },
     "execution_count": 129,
     "metadata": {},
     "output_type": "execute_result"
    }
   ],
   "source": [
    "sent = \"A prova de português do Enem foi aplicada neste domingo\"\n",
    "word_tokenize(sent)"
   ]
  },
  {
   "cell_type": "code",
   "execution_count": 130,
   "metadata": {
    "collapsed": true
   },
   "outputs": [],
   "source": [
    "thamlet = Text(hamlet)"
   ]
  },
  {
   "cell_type": "code",
   "execution_count": 132,
   "metadata": {},
   "outputs": [
    {
     "name": "stdout",
     "output_type": "stream",
     "text": [
      "project gutenberg; vossa alteza; minha mãe; literary archive; meu pae;\n",
      "primeiro coveiro; electronic works; archive foundation; http ://;\n",
      "public domain; united states; gutenberg literary; vossa magestade; set\n",
      "forth; meu senhor; segundo coveiro; tudo quanto; teu pae; electronic\n",
      "work; alguma cousa\n"
     ]
    }
   ],
   "source": [
    "thamlet.collocations()"
   ]
  },
  {
   "cell_type": "code",
   "execution_count": 139,
   "metadata": {
    "collapsed": true
   },
   "outputs": [],
   "source": [
    "from nltk.stem import RSLPStemmer"
   ]
  },
  {
   "cell_type": "code",
   "execution_count": 140,
   "metadata": {},
   "outputs": [
    {
     "name": "stdout",
     "output_type": "stream",
     "text": [
      "clariss\n",
      "risc\n",
      "com\n",
      "giz\n",
      "no\n",
      "quadro-negr\n",
      "a\n",
      "pais\n",
      "que\n",
      "os\n",
      "alun\n",
      "dev\n",
      "copi\n",
      ".\n",
      "uma\n",
      "cas\n",
      "de\n",
      "port\n",
      "e\n",
      "janel\n",
      ",\n",
      "em\n",
      "cim\n",
      "dum\n",
      "coxilh\n",
      ".\n"
     ]
    }
   ],
   "source": [
    "st = RSLPStemmer()\n",
    "# opening lines of Erico Verissimo's \"Música ao Longe\"\n",
    "text = '''\n",
    "Clarissa risca com giz no quadro-negro a paisagem que os alunos\n",
    "devem copiar . Uma casinha de porta e janela , em cima duma\n",
    "coxilha .'''\n",
    "for token in text.split():\n",
    "    print(st.stem(token))"
   ]
  },
  {
   "cell_type": "code",
   "execution_count": 142,
   "metadata": {},
   "outputs": [
    {
     "name": "stdout",
     "output_type": "stream",
     "text": [
      "a\n",
      "prov\n",
      "cham\n",
      "a\n",
      "atenç\n",
      "pel\n",
      "versatil\n",
      "de\n",
      "estil\n",
      "de\n",
      "text\n"
     ]
    }
   ],
   "source": [
    "text = \"A prova chamou a atenção pela versatilidade de estilos de textos\" #, que variaram de uma música popular\"\n",
    "for token in text.split():\n",
    "    print(st.stem(token))"
   ]
  },
  {
   "cell_type": "code",
   "execution_count": 145,
   "metadata": {},
   "outputs": [
    {
     "data": {
      "text/plain": [
       "['austen-emma.txt',\n",
       " 'austen-persuasion.txt',\n",
       " 'austen-sense.txt',\n",
       " 'bible-kjv.txt',\n",
       " 'blake-poems.txt',\n",
       " 'bryant-stories.txt',\n",
       " 'burgess-busterbrown.txt',\n",
       " 'carroll-alice.txt',\n",
       " 'chesterton-ball.txt',\n",
       " 'chesterton-brown.txt',\n",
       " 'chesterton-thursday.txt',\n",
       " 'edgeworth-parents.txt',\n",
       " 'melville-moby_dick.txt',\n",
       " 'milton-paradise.txt',\n",
       " 'shakespeare-caesar.txt',\n",
       " 'shakespeare-hamlet.txt',\n",
       " 'shakespeare-macbeth.txt',\n",
       " 'whitman-leaves.txt']"
      ]
     },
     "execution_count": 145,
     "metadata": {},
     "output_type": "execute_result"
    }
   ],
   "source": [
    "nltk.corpus.gutenberg.fileids()"
   ]
  },
  {
   "cell_type": "code",
   "execution_count": 146,
   "metadata": {},
   "outputs": [
    {
     "name": "stdout",
     "output_type": "stream",
     "text": [
      "[[2 2 0 2 1 1 1]\n",
      " [0 1 1 1 0 1 1]]\n",
      "['cinema', 'de', 'futebol', 'gosta', 'juliana', 'pedro', 'também']\n"
     ]
    }
   ],
   "source": [
    "# bag of words\n",
    "from sklearn.feature_extraction.text import CountVectorizer\n",
    "vectorizer = CountVectorizer()\n",
    "data_corpus = [\"Juliana gosta de cinema. Pedro também gosta de cinema.\", \n",
    "\"Pedro também gosta de futebol.\"]\n",
    "X = vectorizer.fit_transform(data_corpus) \n",
    "print(X.toarray())\n",
    "print(vectorizer.get_feature_names())"
   ]
  },
  {
   "cell_type": "code",
   "execution_count": null,
   "metadata": {
    "collapsed": true
   },
   "outputs": [],
   "source": []
  }
 ],
 "metadata": {
  "kernelspec": {
   "display_name": "Python 3",
   "language": "python",
   "name": "python3"
  },
  "language_info": {
   "codemirror_mode": {
    "name": "ipython",
    "version": 3
   },
   "file_extension": ".py",
   "mimetype": "text/x-python",
   "name": "python",
   "nbconvert_exporter": "python",
   "pygments_lexer": "ipython3",
   "version": "3.6.1"
  }
 },
 "nbformat": 4,
 "nbformat_minor": 2
}
