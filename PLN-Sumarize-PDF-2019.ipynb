{
 "cells": [
  {
   "cell_type": "markdown",
   "metadata": {},
   "source": [
    "# <font color='blue'>Sumarize PDF -  2019</font>"
   ]
  },
  {
   "cell_type": "markdown",
   "metadata": {},
   "source": [
    "## Gensim - Modelagem de Tópicos (Sumarização, etc)"
   ]
  },
  {
   "cell_type": "markdown",
   "metadata": {},
   "source": [
    "https://github.com/RaRe-Technologies/gensim"
   ]
  },
  {
   "cell_type": "code",
   "execution_count": 1,
   "metadata": {},
   "outputs": [],
   "source": [
    "#!pip install gensim\n",
    "#!conda install -c anaconda beautifulsoup4"
   ]
  },
  {
   "cell_type": "code",
   "execution_count": 6,
   "metadata": {},
   "outputs": [],
   "source": [
    "#!pip install tika"
   ]
  },
  {
   "cell_type": "code",
   "execution_count": 7,
   "metadata": {},
   "outputs": [
    {
     "data": {
      "application/javascript": [
       "IPython.OutputArea.prototype._should_scroll = function(lines) {\n",
       "    return false;\n",
       "} // toggle output file\n"
      ],
      "text/plain": [
       "<IPython.core.display.Javascript object>"
      ]
     },
     "metadata": {},
     "output_type": "display_data"
    }
   ],
   "source": [
    "%%javascript\n",
    "IPython.OutputArea.prototype._should_scroll = function(lines) {\n",
    "    return false;\n",
    "} // toggle output file"
   ]
  },
  {
   "cell_type": "markdown",
   "metadata": {},
   "source": [
    "# Classe para ler e Sumarizar PDF"
   ]
  },
  {
   "cell_type": "code",
   "execution_count": 8,
   "metadata": {},
   "outputs": [],
   "source": [
    "# Função para sumarizar pdf - usando o GenSim\n",
    "import tika\n",
    "from tika import parser\n",
    "import gensim\n",
    "\n",
    "tika.initVM()\n",
    "\n",
    "class sumarizar_pdf():\n",
    "    \n",
    "    def __init__(self, url):\n",
    "        self.url = url\n",
    "        self.parsed = parser.from_file(self.url)\n",
    "        self.pages = self.parsed[\"content\"]\n",
    "    \n",
    "    def sumarizar_pdf_word_count(self, word_count):\n",
    "        text = self.pages\n",
    "        print (gensim.summarization.summarize(text, word_count=word_count))         \n",
    "        \n",
    "    def sumarizar_pdf_com_ratio(self, ratio):\n",
    "        text = self.pages\n",
    "        print (gensim.summarization.summarize(text, ratio=ratio))"
   ]
  },
  {
   "cell_type": "code",
   "execution_count": 9,
   "metadata": {},
   "outputs": [
    {
     "data": {
      "text/plain": [
       "['2015-gorwell-rev_bichos.pdf',\n",
       " '500 a.C. - A Arte da Guerra - Sun Tzu.pdf',\n",
       " 'Os Sertões.pdf',\n",
       " 'Seleçao_texto 2.pdf',\n",
       " 'Seleção_texto 4.pdf',\n",
       " 'Todas as Coisas Belas - Matthew Quick.pdf',\n",
       " 'divinacomedia.pdf',\n",
       " 'draculap.pdf']"
      ]
     },
     "execution_count": 9,
     "metadata": {},
     "output_type": "execute_result"
    }
   ],
   "source": [
    "w = !ls *.pdf\n",
    "w"
   ]
  },
  {
   "cell_type": "code",
   "execution_count": 10,
   "metadata": {},
   "outputs": [
    {
     "name": "stderr",
     "output_type": "stream",
     "text": [
      "2019-11-14 11:49:56,021 [MainThread  ] [INFO ]  Retrieving http://search.maven.org/remotecontent?filepath=org/apache/tika/tika-server/1.22/tika-server-1.22.jar to /var/folders/wm/w4f0z08s2jn7bhy010p8gtz40000gn/T/tika-server.jar.\n",
      "2019-11-14 11:50:19,117 [MainThread  ] [INFO ]  Retrieving http://search.maven.org/remotecontent?filepath=org/apache/tika/tika-server/1.22/tika-server-1.22.jar.md5 to /var/folders/wm/w4f0z08s2jn7bhy010p8gtz40000gn/T/tika-server.jar.md5.\n",
      "2019-11-14 11:50:19,528 [MainThread  ] [WARNI]  Failed to see startup log message; retrying...\n",
      "2019-11-14 11:50:24,536 [MainThread  ] [WARNI]  Failed to see startup log message; retrying...\n"
     ]
    },
    {
     "name": "stdout",
     "output_type": "stream",
     "text": [
      "Quando você enviar as tropas para uma batalha, você deverá considerar que \n",
      "Se seu exército captura dez carruagens em uma batalha, você tem que \n",
      "As operações militares devem ser conduzidas para uma vitória rápida e não como \n",
      "Quando você tiver duas vezes mais força que o inimigo, enfrente-o pelos \n",
      "Para aquele que não conhece o inimigo, mas conhece a si mesmo, as \n",
      "É por isto que se diz: \"a pessoa pode predizer uma vitória, mas esta não pode ser \n",
      "Assim, um exército vitorioso não lutará com o inimigo até que esteja seguro das \n",
      "O quarto é uma comparação da sua própria força militar com a do inimigo; \n",
      "Se um general ataca com confiança é porque sabe que o inimigo não pode se \n",
      "está seguro que o inimigo não atacará com superioridade de forças naquela posição.\n",
      "nem a hora de uma batalha, então o seu lado esquerdo não pode ajudar a sua direita e \n",
      "Assim, se o seu exército, para obter uma vantagem, tivesse que recolher suas \n",
      "Todo o mundo sabe que um exército será derrotado pelo inimigo se não \n",
      "Um inimigo que se confronta com você, por muito tempo, sem lutar e \n",
      "que o inimigo tente atraí-lo para combater, você não deve morder a \n",
      "certamente, não será fácil atrair o inimigo para uma batalha.\n",
      "Dispersar os soldados inimigos de modo que eles não pudessem se \n",
      "Um general que conduz suas tropas para lutar uma batalha decisiva deve \n",
      "É só lançando um exército para uma posição perigosa, que seus soldados \n",
      "CPU times: user 3.19 s, sys: 825 ms, total: 4.02 s\n",
      "Wall time: 46.2 s\n"
     ]
    }
   ],
   "source": [
    "%%time\n",
    "url = '500 a.C. - A Arte da Guerra - Sun Tzu.pdf'\n",
    "pdf_summarize =  sumarizar_pdf(url)\n",
    "word_count = 250\n",
    "pdf_summarize.sumarizar_pdf_word_count(word_count)"
   ]
  },
  {
   "cell_type": "code",
   "execution_count": 11,
   "metadata": {},
   "outputs": [
    {
     "name": "stdout",
     "output_type": "stream",
     "text": [
      "Quem conduz os soldados para a batalha deve estar familiarizado com estes cinco \n",
      "Oferecer uma isca para fascinar o inimigo que procura alguma vantagem; \n",
      "fatores não podem ser determinados por antecipação, com base em situações que \n",
      "Quando você enviar as tropas para uma batalha, você deverá considerar que \n",
      "Você necessitará de muitas provisões para esta força cobrir uma distância de mil li \n",
      "Um comandante que domina a arte da guerra não convoca suas forças mais de \n",
      "Onde este exército, que está longe de sua terra, estiver \n",
      "impostos tenderão a aumentar para sustentar este exército que luta longe de sua terra.\n",
      "Se seu exército captura dez carruagens em uma batalha, você tem que \n",
      "As operações militares devem ser conduzidas para uma vitória rápida e não como \n",
      "Excelência mais alta está em obter-se uma vitória e subjugar o inimigo \n",
      "soldados para avançar contra o muro da cidade como formigas, o resultado será que \n",
      "Um chefe que está bem instruído em operações militares faz com que o inimigo se \n",
      "Quando você tiver uma força dez vezes superior ao inimigo, cerque-o; \n",
      "Quando você tiver duas vezes mais força que o inimigo, enfrente-o pelos \n",
      "Se você for muito mais fraco do que o inimigo, deve saber a hora de \n",
      "Para aquele que não conhece o inimigo, mas conhece a si mesmo, as \n",
      "Aquele que não conhece nem o inimigo e nem a si próprio, será derrotado \n",
      "É por isto que se diz: \"a pessoa pode predizer uma vitória, mas esta não pode ser \n",
      "As vitórias do perito são infalíveis, pois, este só combate quando o inimigo já está \n",
      "Assim, um exército vitorioso não lutará com o inimigo até que esteja seguro das \n",
      "O quarto é uma comparação da sua própria força militar com a do inimigo; \n",
      "obter a vitória será comparado com a força de águas represadas que se lançam para \n",
      "Acontece o mesmo com um general, que pode explorar sua própria posição de \n",
      "ao inimigo pequenas vantagens, mas o espera armado e com toda a sua força.\n",
      "Apresente uma vantagem aparente ao inimigo e ele virá até sua armadilha.\n",
      "Se um general ataca com confiança é porque sabe que o inimigo não pode se \n",
      "está seguro que o inimigo não atacará com superioridade de forças naquela posição.\n",
      "contra possíveis ataques; aquele que tem muitas tropas compele o inimigo a preparar-\n",
      "Se um general sabe o lugar e a hora de uma batalha, ele pode conduzir as suas \n",
      "nem a hora de uma batalha, então o seu lado esquerdo não pode ajudar a sua direita e \n",
      "exército varia seus métodos de obter a vitória de acordo com o inimigo.\n",
      "processo inteiro nada se torna mais difícil do que lutar para colocar-se em uma posição \n",
      "Assim, se o seu exército, para obter uma vantagem, tivesse que recolher suas \n",
      "Se eles tivessem que correr cinqüenta li para procurar uma posição favorável, o \n",
      "Todo o mundo sabe que um exército será derrotado pelo inimigo se não \n",
      "príncipes dos Estados vizinhos não pode fazer em alianças com eles.\n",
      "Você deve dividir suas forças para saquear o território do inimigo, e posicioná-la \n",
      "exausto, e traz as suas tropas bem-alimentadas contra os soldados inimigos que têm \n",
      "e não pressione com muito vigor um inimigo que está acuado e \n",
      "Ao conduzir as suas tropas, ele não deverá acampar ou estacionar em terreno \n",
      "reais valores destas táticas, ele não saberá usá-las em seu favor, mesmo que esteja \n",
      "Se você quer subjugar os estados vizinhos, os ameace com o que eles temem; se \n",
      "inimigo não estar vindo, mas dependa de sua própria prontidão para o reconhecer.\n",
      "com o inimigo, não enfrente suas forças de invasão perto de um rio.\n",
      "recua, significa que o inimigo está tentando nos atrair para uma \n",
      "Um inimigo que se confronta com você, por muito tempo, sem lutar e \n",
      "o inimigo como para as suas tropas.\n",
      "o inimigo como para as suas tropas.\n",
      "que o inimigo tente atraí-lo para combater, você não deve morder a \n",
      "certamente, não será fácil atrair o inimigo para uma batalha.\n",
      "Quando as vantagens estratégicas são iguais, entre você e seu inimigo, e \n",
      "se o seu exército tiver que lutar contra uma força dez vezes maior, o \n",
      "Um general que só conhece a capacidade de suas tropas, mas não sabe a \n",
      "Um general que sabe que o inimigo pode ser derrotado, mas não sabe a \n",
      "tropas têm a capacidade para atacar, mas não sabe que as condições do \n",
      "terreno são inadequadas para a batalha, as suas chances de vitória estarão \n",
      "terrenos cercados; e trave uma batalha com todas as suas forças em território \n",
      "Dispersar os soldados inimigos de modo que eles não pudessem se \n",
      "exército, como você lidaria com isto?\" Minha resposta seria: \"Capture algo que ele \n",
      "Movimente suas tropas com táticas engenhosas de forma que o inimigo \n",
      "seus soldados, assim, eles não abandonarão a batalha, mesmo em face da morte.\n",
      "No dia em que ao exército for ordenado para combater uma batalha decisiva, os \n",
      "você os lança em uma situação onde não há nenhum modo para eles se retirarem, eles \n",
      "Ele altera dispositivo de suas tropas e seus planos militares sem que \n",
      "Um general que conduz suas tropas para lutar uma batalha decisiva deve \n",
      "não há nenhum modo para soldados retornarem, você está em terreno \n",
      "Quando você está em terreno desesperado, você tem que mostrar para \n",
      "estado reúna forças para resistir; e onde quer que tal exército vá, intimida seu inimigo \n",
      "É só lançando um exército para uma posição perigosa, que seus soldados \n",
      "Concentre sua força sobre o inimigo e você poderá matar o seu comandante \n",
      "vitória; ele que usa a água para apoiar o seu ataque é forte.\n",
      "avanço do inimigo, mas não pode privá-lo de suas provisões.\n",
      "Quando você emprega os cinco tipos de espiões simultaneamente, o inimigo não \n",
      "Você deve averiguar sobre os espiões inimigos que foram enviados para \n",
      "CPU times: user 2.38 s, sys: 47.6 ms, total: 2.43 s\n",
      "Wall time: 2.32 s\n"
     ]
    }
   ],
   "source": [
    "%%time\n",
    "# Summary (0.05% of the original content). \n",
    "ratio = 0.05\n",
    "pdf_summarize.sumarizar_pdf_com_ratio(ratio)"
   ]
  },
  {
   "cell_type": "markdown",
   "metadata": {},
   "source": [
    "====="
   ]
  },
  {
   "cell_type": "markdown",
   "metadata": {},
   "source": [
    "# Sumarizar todos os livros (pdf)"
   ]
  },
  {
   "cell_type": "code",
   "execution_count": null,
   "metadata": {},
   "outputs": [],
   "source": [
    "# Sumarizar todos os livros (pdf)\n",
    "books = ['2015-gorwell-rev_bichos.pdf',\n",
    " '500 a.C. - A Arte da Guerra - Sun Tzu.pdf',\n",
    " 'Os Sertões.pdf',\n",
    " 'Seleçao_texto 2.pdf',\n",
    " 'Seleção_texto 4.pdf',\n",
    " 'Todas as Coisas Belas - Matthew Quick.pdf',\n",
    " 'divinacomedia.pdf',\n",
    " 'draculap.pdf']\n",
    "for book in books:\n",
    "    print(book)\n",
    "    url = book\n",
    "    pdf_summarize =  sumarizar_pdf(url)\n",
    "    word_count = 250\n",
    "    pdf_summarize.sumarizar_pdf_word_count(word_count)\n",
    "    print('='*80)"
   ]
  },
  {
   "cell_type": "code",
   "execution_count": null,
   "metadata": {},
   "outputs": [],
   "source": [
    "# Sumarizar todos os livros (pdf)\n",
    "books = ['2015-gorwell-rev_bichos.pdf',\n",
    " '500 a.C. - A Arte da Guerra - Sun Tzu.pdf',\n",
    " 'Os Sertões.pdf',\n",
    " #'Seleçao_texto 2.pdf',\n",
    " 'Seleção_texto 4.pdf',\n",
    "# 'Todas as Coisas Belas - Matthew Quick.pdf',\n",
    "# 'divinacomedia.pdf',\n",
    "# 'draculap.pdf'\n",
    "        ]\n",
    "for book in books:\n",
    "    print(book)\n",
    "    url = book\n",
    "    pdf_summarize =  sumarizar_pdf(url)\n",
    "    ratio = 0.05\n",
    "    pdf_summarize.sumarizar_pdf_com_ratio(ratio)\n",
    "    print('='*80)"
   ]
  },
  {
   "cell_type": "code",
   "execution_count": null,
   "metadata": {},
   "outputs": [],
   "source": []
  }
 ],
 "metadata": {
  "anaconda-cloud": {},
  "kernelspec": {
   "display_name": "tf366",
   "language": "python",
   "name": "tf366"
  },
  "language_info": {
   "codemirror_mode": {
    "name": "ipython",
    "version": 3
   },
   "file_extension": ".py",
   "mimetype": "text/x-python",
   "name": "python",
   "nbconvert_exporter": "python",
   "pygments_lexer": "ipython3",
   "version": "3.6.6"
  }
 },
 "nbformat": 4,
 "nbformat_minor": 1
}
